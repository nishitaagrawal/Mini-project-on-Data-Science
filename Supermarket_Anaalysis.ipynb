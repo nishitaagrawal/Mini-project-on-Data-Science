{
  "nbformat": 4,
  "nbformat_minor": 0,
  "metadata": {
    "colab": {
      "name": "Superstore Anaalysis",
      "provenance": [],
      "collapsed_sections": []
    },
    "kernelspec": {
      "name": "python3",
      "display_name": "Python 3"
    }
  },
  "cells": [
    {
      "cell_type": "markdown",
      "metadata": {
        "id": "JVyvRbW-cf32",
        "colab_type": "text"
      },
      "source": [
        "#**SALES DATA ANALYSIS MINI PROJECT**\n",
        "DONE BY : NISHITA AGRAWAL\n",
        "\n",
        "##Task 1\n",
        "Identifying and importing essential libraries\n"
      ]
    },
    {
      "cell_type": "code",
      "metadata": {
        "id": "n_chqo4dbnmF",
        "colab_type": "code",
        "colab": {}
      },
      "source": [
        "import pandas as pd\n",
        "import numpy as np\n",
        "import matplotlib.pyplot as plt\n",
        "import datetime"
      ],
      "execution_count": 189,
      "outputs": []
    },
    {
      "cell_type": "markdown",
      "metadata": {
        "id": "QArVrD0LckCh",
        "colab_type": "text"
      },
      "source": [
        "##Task 2\n",
        "Data loading and overview\n",
        "\n",
        "a.Load the dataset from a file\n",
        "\n",
        "b.Look at the first 5 records of the data\n",
        "\n",
        "c.Print the columns contained in the data\n",
        "\n",
        "d.Print the attributes like count , mean , max , min, standard deviation etc\n",
        "\n",
        "e.Find out are there any missing or null values in the data for all columns"
      ]
    },
    {
      "cell_type": "code",
      "metadata": {
        "id": "naXA9sMicC0k",
        "colab_type": "code",
        "colab": {
          "resources": {
            "http://localhost:8080/nbextensions/google.colab/files.js": {
              "data": "Ly8gQ29weXJpZ2h0IDIwMTcgR29vZ2xlIExMQwovLwovLyBMaWNlbnNlZCB1bmRlciB0aGUgQXBhY2hlIExpY2Vuc2UsIFZlcnNpb24gMi4wICh0aGUgIkxpY2Vuc2UiKTsKLy8geW91IG1heSBub3QgdXNlIHRoaXMgZmlsZSBleGNlcHQgaW4gY29tcGxpYW5jZSB3aXRoIHRoZSBMaWNlbnNlLgovLyBZb3UgbWF5IG9idGFpbiBhIGNvcHkgb2YgdGhlIExpY2Vuc2UgYXQKLy8KLy8gICAgICBodHRwOi8vd3d3LmFwYWNoZS5vcmcvbGljZW5zZXMvTElDRU5TRS0yLjAKLy8KLy8gVW5sZXNzIHJlcXVpcmVkIGJ5IGFwcGxpY2FibGUgbGF3IG9yIGFncmVlZCB0byBpbiB3cml0aW5nLCBzb2Z0d2FyZQovLyBkaXN0cmlidXRlZCB1bmRlciB0aGUgTGljZW5zZSBpcyBkaXN0cmlidXRlZCBvbiBhbiAiQVMgSVMiIEJBU0lTLAovLyBXSVRIT1VUIFdBUlJBTlRJRVMgT1IgQ09ORElUSU9OUyBPRiBBTlkgS0lORCwgZWl0aGVyIGV4cHJlc3Mgb3IgaW1wbGllZC4KLy8gU2VlIHRoZSBMaWNlbnNlIGZvciB0aGUgc3BlY2lmaWMgbGFuZ3VhZ2UgZ292ZXJuaW5nIHBlcm1pc3Npb25zIGFuZAovLyBsaW1pdGF0aW9ucyB1bmRlciB0aGUgTGljZW5zZS4KCi8qKgogKiBAZmlsZW92ZXJ2aWV3IEhlbHBlcnMgZm9yIGdvb2dsZS5jb2xhYiBQeXRob24gbW9kdWxlLgogKi8KKGZ1bmN0aW9uKHNjb3BlKSB7CmZ1bmN0aW9uIHNwYW4odGV4dCwgc3R5bGVBdHRyaWJ1dGVzID0ge30pIHsKICBjb25zdCBlbGVtZW50ID0gZG9jdW1lbnQuY3JlYXRlRWxlbWVudCgnc3BhbicpOwogIGVsZW1lbnQudGV4dENvbnRlbnQgPSB0ZXh0OwogIGZvciAoY29uc3Qga2V5IG9mIE9iamVjdC5rZXlzKHN0eWxlQXR0cmlidXRlcykpIHsKICAgIGVsZW1lbnQuc3R5bGVba2V5XSA9IHN0eWxlQXR0cmlidXRlc1trZXldOwogIH0KICByZXR1cm4gZWxlbWVudDsKfQoKLy8gTWF4IG51bWJlciBvZiBieXRlcyB3aGljaCB3aWxsIGJlIHVwbG9hZGVkIGF0IGEgdGltZS4KY29uc3QgTUFYX1BBWUxPQURfU0laRSA9IDEwMCAqIDEwMjQ7CgpmdW5jdGlvbiBfdXBsb2FkRmlsZXMoaW5wdXRJZCwgb3V0cHV0SWQpIHsKICBjb25zdCBzdGVwcyA9IHVwbG9hZEZpbGVzU3RlcChpbnB1dElkLCBvdXRwdXRJZCk7CiAgY29uc3Qgb3V0cHV0RWxlbWVudCA9IGRvY3VtZW50LmdldEVsZW1lbnRCeUlkKG91dHB1dElkKTsKICAvLyBDYWNoZSBzdGVwcyBvbiB0aGUgb3V0cHV0RWxlbWVudCB0byBtYWtlIGl0IGF2YWlsYWJsZSBmb3IgdGhlIG5leHQgY2FsbAogIC8vIHRvIHVwbG9hZEZpbGVzQ29udGludWUgZnJvbSBQeXRob24uCiAgb3V0cHV0RWxlbWVudC5zdGVwcyA9IHN0ZXBzOwoKICByZXR1cm4gX3VwbG9hZEZpbGVzQ29udGludWUob3V0cHV0SWQpOwp9CgovLyBUaGlzIGlzIHJvdWdobHkgYW4gYXN5bmMgZ2VuZXJhdG9yIChub3Qgc3VwcG9ydGVkIGluIHRoZSBicm93c2VyIHlldCksCi8vIHdoZXJlIHRoZXJlIGFyZSBtdWx0aXBsZSBhc3luY2hyb25vdXMgc3RlcHMgYW5kIHRoZSBQeXRob24gc2lkZSBpcyBnb2luZwovLyB0byBwb2xsIGZvciBjb21wbGV0aW9uIG9mIGVhY2ggc3RlcC4KLy8gVGhpcyB1c2VzIGEgUHJvbWlzZSB0byBibG9jayB0aGUgcHl0aG9uIHNpZGUgb24gY29tcGxldGlvbiBvZiBlYWNoIHN0ZXAsCi8vIHRoZW4gcGFzc2VzIHRoZSByZXN1bHQgb2YgdGhlIHByZXZpb3VzIHN0ZXAgYXMgdGhlIGlucHV0IHRvIHRoZSBuZXh0IHN0ZXAuCmZ1bmN0aW9uIF91cGxvYWRGaWxlc0NvbnRpbnVlKG91dHB1dElkKSB7CiAgY29uc3Qgb3V0cHV0RWxlbWVudCA9IGRvY3VtZW50LmdldEVsZW1lbnRCeUlkKG91dHB1dElkKTsKICBjb25zdCBzdGVwcyA9IG91dHB1dEVsZW1lbnQuc3RlcHM7CgogIGNvbnN0IG5leHQgPSBzdGVwcy5uZXh0KG91dHB1dEVsZW1lbnQubGFzdFByb21pc2VWYWx1ZSk7CiAgcmV0dXJuIFByb21pc2UucmVzb2x2ZShuZXh0LnZhbHVlLnByb21pc2UpLnRoZW4oKHZhbHVlKSA9PiB7CiAgICAvLyBDYWNoZSB0aGUgbGFzdCBwcm9taXNlIHZhbHVlIHRvIG1ha2UgaXQgYXZhaWxhYmxlIHRvIHRoZSBuZXh0CiAgICAvLyBzdGVwIG9mIHRoZSBnZW5lcmF0b3IuCiAgICBvdXRwdXRFbGVtZW50Lmxhc3RQcm9taXNlVmFsdWUgPSB2YWx1ZTsKICAgIHJldHVybiBuZXh0LnZhbHVlLnJlc3BvbnNlOwogIH0pOwp9CgovKioKICogR2VuZXJhdG9yIGZ1bmN0aW9uIHdoaWNoIGlzIGNhbGxlZCBiZXR3ZWVuIGVhY2ggYXN5bmMgc3RlcCBvZiB0aGUgdXBsb2FkCiAqIHByb2Nlc3MuCiAqIEBwYXJhbSB7c3RyaW5nfSBpbnB1dElkIEVsZW1lbnQgSUQgb2YgdGhlIGlucHV0IGZpbGUgcGlja2VyIGVsZW1lbnQuCiAqIEBwYXJhbSB7c3RyaW5nfSBvdXRwdXRJZCBFbGVtZW50IElEIG9mIHRoZSBvdXRwdXQgZGlzcGxheS4KICogQHJldHVybiB7IUl0ZXJhYmxlPCFPYmplY3Q+fSBJdGVyYWJsZSBvZiBuZXh0IHN0ZXBzLgogKi8KZnVuY3Rpb24qIHVwbG9hZEZpbGVzU3RlcChpbnB1dElkLCBvdXRwdXRJZCkgewogIGNvbnN0IGlucHV0RWxlbWVudCA9IGRvY3VtZW50LmdldEVsZW1lbnRCeUlkKGlucHV0SWQpOwogIGlucHV0RWxlbWVudC5kaXNhYmxlZCA9IGZhbHNlOwoKICBjb25zdCBvdXRwdXRFbGVtZW50ID0gZG9jdW1lbnQuZ2V0RWxlbWVudEJ5SWQob3V0cHV0SWQpOwogIG91dHB1dEVsZW1lbnQuaW5uZXJIVE1MID0gJyc7CgogIGNvbnN0IHBpY2tlZFByb21pc2UgPSBuZXcgUHJvbWlzZSgocmVzb2x2ZSkgPT4gewogICAgaW5wdXRFbGVtZW50LmFkZEV2ZW50TGlzdGVuZXIoJ2NoYW5nZScsIChlKSA9PiB7CiAgICAgIHJlc29sdmUoZS50YXJnZXQuZmlsZXMpOwogICAgfSk7CiAgfSk7CgogIGNvbnN0IGNhbmNlbCA9IGRvY3VtZW50LmNyZWF0ZUVsZW1lbnQoJ2J1dHRvbicpOwogIGlucHV0RWxlbWVudC5wYXJlbnRFbGVtZW50LmFwcGVuZENoaWxkKGNhbmNlbCk7CiAgY2FuY2VsLnRleHRDb250ZW50ID0gJ0NhbmNlbCB1cGxvYWQnOwogIGNvbnN0IGNhbmNlbFByb21pc2UgPSBuZXcgUHJvbWlzZSgocmVzb2x2ZSkgPT4gewogICAgY2FuY2VsLm9uY2xpY2sgPSAoKSA9PiB7CiAgICAgIHJlc29sdmUobnVsbCk7CiAgICB9OwogIH0pOwoKICAvLyBXYWl0IGZvciB0aGUgdXNlciB0byBwaWNrIHRoZSBmaWxlcy4KICBjb25zdCBmaWxlcyA9IHlpZWxkIHsKICAgIHByb21pc2U6IFByb21pc2UucmFjZShbcGlja2VkUHJvbWlzZSwgY2FuY2VsUHJvbWlzZV0pLAogICAgcmVzcG9uc2U6IHsKICAgICAgYWN0aW9uOiAnc3RhcnRpbmcnLAogICAgfQogIH07CgogIGNhbmNlbC5yZW1vdmUoKTsKCiAgLy8gRGlzYWJsZSB0aGUgaW5wdXQgZWxlbWVudCBzaW5jZSBmdXJ0aGVyIHBpY2tzIGFyZSBub3QgYWxsb3dlZC4KICBpbnB1dEVsZW1lbnQuZGlzYWJsZWQgPSB0cnVlOwoKICBpZiAoIWZpbGVzKSB7CiAgICByZXR1cm4gewogICAgICByZXNwb25zZTogewogICAgICAgIGFjdGlvbjogJ2NvbXBsZXRlJywKICAgICAgfQogICAgfTsKICB9CgogIGZvciAoY29uc3QgZmlsZSBvZiBmaWxlcykgewogICAgY29uc3QgbGkgPSBkb2N1bWVudC5jcmVhdGVFbGVtZW50KCdsaScpOwogICAgbGkuYXBwZW5kKHNwYW4oZmlsZS5uYW1lLCB7Zm9udFdlaWdodDogJ2JvbGQnfSkpOwogICAgbGkuYXBwZW5kKHNwYW4oCiAgICAgICAgYCgke2ZpbGUudHlwZSB8fCAnbi9hJ30pIC0gJHtmaWxlLnNpemV9IGJ5dGVzLCBgICsKICAgICAgICBgbGFzdCBtb2RpZmllZDogJHsKICAgICAgICAgICAgZmlsZS5sYXN0TW9kaWZpZWREYXRlID8gZmlsZS5sYXN0TW9kaWZpZWREYXRlLnRvTG9jYWxlRGF0ZVN0cmluZygpIDoKICAgICAgICAgICAgICAgICAgICAgICAgICAgICAgICAgICAgJ24vYSd9IC0gYCkpOwogICAgY29uc3QgcGVyY2VudCA9IHNwYW4oJzAlIGRvbmUnKTsKICAgIGxpLmFwcGVuZENoaWxkKHBlcmNlbnQpOwoKICAgIG91dHB1dEVsZW1lbnQuYXBwZW5kQ2hpbGQobGkpOwoKICAgIGNvbnN0IGZpbGVEYXRhUHJvbWlzZSA9IG5ldyBQcm9taXNlKChyZXNvbHZlKSA9PiB7CiAgICAgIGNvbnN0IHJlYWRlciA9IG5ldyBGaWxlUmVhZGVyKCk7CiAgICAgIHJlYWRlci5vbmxvYWQgPSAoZSkgPT4gewogICAgICAgIHJlc29sdmUoZS50YXJnZXQucmVzdWx0KTsKICAgICAgfTsKICAgICAgcmVhZGVyLnJlYWRBc0FycmF5QnVmZmVyKGZpbGUpOwogICAgfSk7CiAgICAvLyBXYWl0IGZvciB0aGUgZGF0YSB0byBiZSByZWFkeS4KICAgIGxldCBmaWxlRGF0YSA9IHlpZWxkIHsKICAgICAgcHJvbWlzZTogZmlsZURhdGFQcm9taXNlLAogICAgICByZXNwb25zZTogewogICAgICAgIGFjdGlvbjogJ2NvbnRpbnVlJywKICAgICAgfQogICAgfTsKCiAgICAvLyBVc2UgYSBjaHVua2VkIHNlbmRpbmcgdG8gYXZvaWQgbWVzc2FnZSBzaXplIGxpbWl0cy4gU2VlIGIvNjIxMTU2NjAuCiAgICBsZXQgcG9zaXRpb24gPSAwOwogICAgd2hpbGUgKHBvc2l0aW9uIDwgZmlsZURhdGEuYnl0ZUxlbmd0aCkgewogICAgICBjb25zdCBsZW5ndGggPSBNYXRoLm1pbihmaWxlRGF0YS5ieXRlTGVuZ3RoIC0gcG9zaXRpb24sIE1BWF9QQVlMT0FEX1NJWkUpOwogICAgICBjb25zdCBjaHVuayA9IG5ldyBVaW50OEFycmF5KGZpbGVEYXRhLCBwb3NpdGlvbiwgbGVuZ3RoKTsKICAgICAgcG9zaXRpb24gKz0gbGVuZ3RoOwoKICAgICAgY29uc3QgYmFzZTY0ID0gYnRvYShTdHJpbmcuZnJvbUNoYXJDb2RlLmFwcGx5KG51bGwsIGNodW5rKSk7CiAgICAgIHlpZWxkIHsKICAgICAgICByZXNwb25zZTogewogICAgICAgICAgYWN0aW9uOiAnYXBwZW5kJywKICAgICAgICAgIGZpbGU6IGZpbGUubmFtZSwKICAgICAgICAgIGRhdGE6IGJhc2U2NCwKICAgICAgICB9LAogICAgICB9OwogICAgICBwZXJjZW50LnRleHRDb250ZW50ID0KICAgICAgICAgIGAke01hdGgucm91bmQoKHBvc2l0aW9uIC8gZmlsZURhdGEuYnl0ZUxlbmd0aCkgKiAxMDApfSUgZG9uZWA7CiAgICB9CiAgfQoKICAvLyBBbGwgZG9uZS4KICB5aWVsZCB7CiAgICByZXNwb25zZTogewogICAgICBhY3Rpb246ICdjb21wbGV0ZScsCiAgICB9CiAgfTsKfQoKc2NvcGUuZ29vZ2xlID0gc2NvcGUuZ29vZ2xlIHx8IHt9OwpzY29wZS5nb29nbGUuY29sYWIgPSBzY29wZS5nb29nbGUuY29sYWIgfHwge307CnNjb3BlLmdvb2dsZS5jb2xhYi5fZmlsZXMgPSB7CiAgX3VwbG9hZEZpbGVzLAogIF91cGxvYWRGaWxlc0NvbnRpbnVlLAp9Owp9KShzZWxmKTsK",
              "ok": true,
              "headers": [
                [
                  "content-type",
                  "application/javascript"
                ]
              ],
              "status": 200,
              "status_text": ""
            }
          },
          "base_uri": "https://localhost:8080/",
          "height": 73
        },
        "outputId": "0c57c72a-542d-4fe3-e8e0-9044aff64ee8"
      },
      "source": [
        "from google.colab import files\n",
        "upload=files.upload()"
      ],
      "execution_count": 2,
      "outputs": [
        {
          "output_type": "display_data",
          "data": {
            "text/html": [
              "\n",
              "     <input type=\"file\" id=\"files-6d856291-d1ab-4e18-8ff6-422eaef46701\" name=\"files[]\" multiple disabled\n",
              "        style=\"border:none\" />\n",
              "     <output id=\"result-6d856291-d1ab-4e18-8ff6-422eaef46701\">\n",
              "      Upload widget is only available when the cell has been executed in the\n",
              "      current browser session. Please rerun this cell to enable.\n",
              "      </output>\n",
              "      <script src=\"/nbextensions/google.colab/files.js\"></script> "
            ],
            "text/plain": [
              "<IPython.core.display.HTML object>"
            ]
          },
          "metadata": {
            "tags": []
          }
        },
        {
          "output_type": "stream",
          "text": [
            "Saving Superstore.xls to Superstore.xls\n"
          ],
          "name": "stdout"
        }
      ]
    },
    {
      "cell_type": "code",
      "metadata": {
        "id": "v-Abo7v_cMLY",
        "colab_type": "code",
        "colab": {}
      },
      "source": [
        "data=pd.read_excel(\"Superstore.xls\")"
      ],
      "execution_count": 190,
      "outputs": []
    },
    {
      "cell_type": "code",
      "metadata": {
        "id": "BMObAA88cWnw",
        "colab_type": "code",
        "colab": {
          "base_uri": "https://localhost:8080/",
          "height": 534
        },
        "outputId": "fb1045f8-f2d3-4abb-e67c-889978691562"
      },
      "source": [
        "data.head()"
      ],
      "execution_count": 191,
      "outputs": [
        {
          "output_type": "execute_result",
          "data": {
            "text/html": [
              "<div>\n",
              "<style scoped>\n",
              "    .dataframe tbody tr th:only-of-type {\n",
              "        vertical-align: middle;\n",
              "    }\n",
              "\n",
              "    .dataframe tbody tr th {\n",
              "        vertical-align: top;\n",
              "    }\n",
              "\n",
              "    .dataframe thead th {\n",
              "        text-align: right;\n",
              "    }\n",
              "</style>\n",
              "<table border=\"1\" class=\"dataframe\">\n",
              "  <thead>\n",
              "    <tr style=\"text-align: right;\">\n",
              "      <th></th>\n",
              "      <th>Row ID</th>\n",
              "      <th>Order ID</th>\n",
              "      <th>Order Date</th>\n",
              "      <th>Ship Date</th>\n",
              "      <th>Ship Mode</th>\n",
              "      <th>Customer ID</th>\n",
              "      <th>Customer Name</th>\n",
              "      <th>Segment</th>\n",
              "      <th>Country</th>\n",
              "      <th>City</th>\n",
              "      <th>State</th>\n",
              "      <th>Postal Code</th>\n",
              "      <th>Region</th>\n",
              "      <th>Product ID</th>\n",
              "      <th>Category</th>\n",
              "      <th>Sub-Category</th>\n",
              "      <th>Product Name</th>\n",
              "      <th>Sales</th>\n",
              "      <th>Quantity</th>\n",
              "      <th>Discount</th>\n",
              "      <th>Profit</th>\n",
              "    </tr>\n",
              "  </thead>\n",
              "  <tbody>\n",
              "    <tr>\n",
              "      <th>0</th>\n",
              "      <td>1</td>\n",
              "      <td>CA-2016-152156</td>\n",
              "      <td>2016-11-08</td>\n",
              "      <td>2016-11-11</td>\n",
              "      <td>Second Class</td>\n",
              "      <td>CG-12520</td>\n",
              "      <td>Claire Gute</td>\n",
              "      <td>Consumer</td>\n",
              "      <td>United States</td>\n",
              "      <td>Henderson</td>\n",
              "      <td>Kentucky</td>\n",
              "      <td>42420</td>\n",
              "      <td>South</td>\n",
              "      <td>FUR-BO-10001798</td>\n",
              "      <td>Furniture</td>\n",
              "      <td>Bookcases</td>\n",
              "      <td>Bush Somerset Collection Bookcase</td>\n",
              "      <td>261.9600</td>\n",
              "      <td>2</td>\n",
              "      <td>0.00</td>\n",
              "      <td>41.9136</td>\n",
              "    </tr>\n",
              "    <tr>\n",
              "      <th>1</th>\n",
              "      <td>2</td>\n",
              "      <td>CA-2016-152156</td>\n",
              "      <td>2016-11-08</td>\n",
              "      <td>2016-11-11</td>\n",
              "      <td>Second Class</td>\n",
              "      <td>CG-12520</td>\n",
              "      <td>Claire Gute</td>\n",
              "      <td>Consumer</td>\n",
              "      <td>United States</td>\n",
              "      <td>Henderson</td>\n",
              "      <td>Kentucky</td>\n",
              "      <td>42420</td>\n",
              "      <td>South</td>\n",
              "      <td>FUR-CH-10000454</td>\n",
              "      <td>Furniture</td>\n",
              "      <td>Chairs</td>\n",
              "      <td>Hon Deluxe Fabric Upholstered Stacking Chairs,...</td>\n",
              "      <td>731.9400</td>\n",
              "      <td>3</td>\n",
              "      <td>0.00</td>\n",
              "      <td>219.5820</td>\n",
              "    </tr>\n",
              "    <tr>\n",
              "      <th>2</th>\n",
              "      <td>3</td>\n",
              "      <td>CA-2016-138688</td>\n",
              "      <td>2016-06-12</td>\n",
              "      <td>2016-06-16</td>\n",
              "      <td>Second Class</td>\n",
              "      <td>DV-13045</td>\n",
              "      <td>Darrin Van Huff</td>\n",
              "      <td>Corporate</td>\n",
              "      <td>United States</td>\n",
              "      <td>Los Angeles</td>\n",
              "      <td>California</td>\n",
              "      <td>90036</td>\n",
              "      <td>West</td>\n",
              "      <td>OFF-LA-10000240</td>\n",
              "      <td>Office Supplies</td>\n",
              "      <td>Labels</td>\n",
              "      <td>Self-Adhesive Address Labels for Typewriters b...</td>\n",
              "      <td>14.6200</td>\n",
              "      <td>2</td>\n",
              "      <td>0.00</td>\n",
              "      <td>6.8714</td>\n",
              "    </tr>\n",
              "    <tr>\n",
              "      <th>3</th>\n",
              "      <td>4</td>\n",
              "      <td>US-2015-108966</td>\n",
              "      <td>2015-10-11</td>\n",
              "      <td>2015-10-18</td>\n",
              "      <td>Standard Class</td>\n",
              "      <td>SO-20335</td>\n",
              "      <td>Sean O'Donnell</td>\n",
              "      <td>Consumer</td>\n",
              "      <td>United States</td>\n",
              "      <td>Fort Lauderdale</td>\n",
              "      <td>Florida</td>\n",
              "      <td>33311</td>\n",
              "      <td>South</td>\n",
              "      <td>FUR-TA-10000577</td>\n",
              "      <td>Furniture</td>\n",
              "      <td>Tables</td>\n",
              "      <td>Bretford CR4500 Series Slim Rectangular Table</td>\n",
              "      <td>957.5775</td>\n",
              "      <td>5</td>\n",
              "      <td>0.45</td>\n",
              "      <td>-383.0310</td>\n",
              "    </tr>\n",
              "    <tr>\n",
              "      <th>4</th>\n",
              "      <td>5</td>\n",
              "      <td>US-2015-108966</td>\n",
              "      <td>2015-10-11</td>\n",
              "      <td>2015-10-18</td>\n",
              "      <td>Standard Class</td>\n",
              "      <td>SO-20335</td>\n",
              "      <td>Sean O'Donnell</td>\n",
              "      <td>Consumer</td>\n",
              "      <td>United States</td>\n",
              "      <td>Fort Lauderdale</td>\n",
              "      <td>Florida</td>\n",
              "      <td>33311</td>\n",
              "      <td>South</td>\n",
              "      <td>OFF-ST-10000760</td>\n",
              "      <td>Office Supplies</td>\n",
              "      <td>Storage</td>\n",
              "      <td>Eldon Fold 'N Roll Cart System</td>\n",
              "      <td>22.3680</td>\n",
              "      <td>2</td>\n",
              "      <td>0.20</td>\n",
              "      <td>2.5164</td>\n",
              "    </tr>\n",
              "  </tbody>\n",
              "</table>\n",
              "</div>"
            ],
            "text/plain": [
              "   Row ID        Order ID Order Date  ... Quantity Discount    Profit\n",
              "0       1  CA-2016-152156 2016-11-08  ...        2     0.00   41.9136\n",
              "1       2  CA-2016-152156 2016-11-08  ...        3     0.00  219.5820\n",
              "2       3  CA-2016-138688 2016-06-12  ...        2     0.00    6.8714\n",
              "3       4  US-2015-108966 2015-10-11  ...        5     0.45 -383.0310\n",
              "4       5  US-2015-108966 2015-10-11  ...        2     0.20    2.5164\n",
              "\n",
              "[5 rows x 21 columns]"
            ]
          },
          "metadata": {
            "tags": []
          },
          "execution_count": 191
        }
      ]
    },
    {
      "cell_type": "code",
      "metadata": {
        "id": "AUVX46TodH4V",
        "colab_type": "code",
        "colab": {
          "base_uri": "https://localhost:8080/",
          "height": 487
        },
        "outputId": "9c8906ee-9113-47bd-cfd6-434c61ca9928"
      },
      "source": [
        "data.info()"
      ],
      "execution_count": 192,
      "outputs": [
        {
          "output_type": "stream",
          "text": [
            "<class 'pandas.core.frame.DataFrame'>\n",
            "RangeIndex: 9994 entries, 0 to 9993\n",
            "Data columns (total 21 columns):\n",
            " #   Column         Non-Null Count  Dtype         \n",
            "---  ------         --------------  -----         \n",
            " 0   Row ID         9994 non-null   int64         \n",
            " 1   Order ID       9994 non-null   object        \n",
            " 2   Order Date     9994 non-null   datetime64[ns]\n",
            " 3   Ship Date      9994 non-null   datetime64[ns]\n",
            " 4   Ship Mode      9994 non-null   object        \n",
            " 5   Customer ID    9994 non-null   object        \n",
            " 6   Customer Name  9994 non-null   object        \n",
            " 7   Segment        9994 non-null   object        \n",
            " 8   Country        9994 non-null   object        \n",
            " 9   City           9994 non-null   object        \n",
            " 10  State          9994 non-null   object        \n",
            " 11  Postal Code    9994 non-null   int64         \n",
            " 12  Region         9994 non-null   object        \n",
            " 13  Product ID     9994 non-null   object        \n",
            " 14  Category       9994 non-null   object        \n",
            " 15  Sub-Category   9994 non-null   object        \n",
            " 16  Product Name   9994 non-null   object        \n",
            " 17  Sales          9994 non-null   float64       \n",
            " 18  Quantity       9994 non-null   int64         \n",
            " 19  Discount       9994 non-null   float64       \n",
            " 20  Profit         9994 non-null   float64       \n",
            "dtypes: datetime64[ns](2), float64(3), int64(3), object(13)\n",
            "memory usage: 1.6+ MB\n"
          ],
          "name": "stdout"
        }
      ]
    },
    {
      "cell_type": "code",
      "metadata": {
        "id": "J8by-lzSdgqV",
        "colab_type": "code",
        "colab": {
          "base_uri": "https://localhost:8080/",
          "height": 134
        },
        "outputId": "b0e9e229-8ddc-44df-b048-3e56a15e118a"
      },
      "source": [
        "np.mean(data)"
      ],
      "execution_count": 193,
      "outputs": [
        {
          "output_type": "execute_result",
          "data": {
            "text/plain": [
              "Row ID          4997.500000\n",
              "Postal Code    55190.379428\n",
              "Sales            229.858001\n",
              "Quantity           3.789574\n",
              "Discount           0.156203\n",
              "Profit            28.656896\n",
              "dtype: float64"
            ]
          },
          "metadata": {
            "tags": []
          },
          "execution_count": 193
        }
      ]
    },
    {
      "cell_type": "code",
      "metadata": {
        "id": "Ul6nInA0d0Gt",
        "colab_type": "code",
        "colab": {
          "base_uri": "https://localhost:8080/",
          "height": 134
        },
        "outputId": "bb62daa9-a7eb-4946-8fcb-3f98ee4f0ed8"
      },
      "source": [
        "np.var(data)"
      ],
      "execution_count": 194,
      "outputs": [
        {
          "output_type": "execute_result",
          "data": {
            "text/plain": [
              "Row ID         8.323336e+06\n",
              "Postal Code    1.027978e+09\n",
              "Sales          3.883956e+05\n",
              "Quantity       4.950618e+00\n",
              "Discount       4.261815e-02\n",
              "Profit         5.487231e+04\n",
              "dtype: float64"
            ]
          },
          "metadata": {
            "tags": []
          },
          "execution_count": 194
        }
      ]
    },
    {
      "cell_type": "code",
      "metadata": {
        "id": "-IxKNVF0d_Ks",
        "colab_type": "code",
        "colab": {
          "base_uri": "https://localhost:8080/",
          "height": 134
        },
        "outputId": "bb9ef556-aa0b-4fc1-b836-6ba0887d1687"
      },
      "source": [
        "np.std(data)"
      ],
      "execution_count": 195,
      "outputs": [
        {
          "output_type": "execute_result",
          "data": {
            "text/plain": [
              "Row ID          2885.019281\n",
              "Postal Code    32062.089163\n",
              "Sales            623.213919\n",
              "Quantity           2.224998\n",
              "Discount           0.206442\n",
              "Profit           234.248387\n",
              "dtype: float64"
            ]
          },
          "metadata": {
            "tags": []
          },
          "execution_count": 195
        }
      ]
    },
    {
      "cell_type": "code",
      "metadata": {
        "id": "-f68QDYLeRll",
        "colab_type": "code",
        "colab": {
          "base_uri": "https://localhost:8080/",
          "height": 386
        },
        "outputId": "26870902-cb9d-4de3-8dbf-a3bbe60acc6e"
      },
      "source": [
        "np.max(data)"
      ],
      "execution_count": 196,
      "outputs": [
        {
          "output_type": "execute_result",
          "data": {
            "text/plain": [
              "Row ID                                         9994\n",
              "Order ID                             US-2017-169551\n",
              "Order Date                      2017-12-30 00:00:00\n",
              "Ship Date                       2018-01-05 00:00:00\n",
              "Ship Mode                            Standard Class\n",
              "Customer ID                                ZD-21925\n",
              "Customer Name                    Zuschuss Donatelli\n",
              "Segment                                 Home Office\n",
              "Country                               United States\n",
              "City                                           Yuma\n",
              "State                                       Wyoming\n",
              "Postal Code                                   99301\n",
              "Region                                         West\n",
              "Product ID                          TEC-PH-10004977\n",
              "Category                                 Technology\n",
              "Sub-Category                                 Tables\n",
              "Product Name     netTALK DUO VoIP Telephone Service\n",
              "Sales                                       22638.5\n",
              "Quantity                                         14\n",
              "Discount                                        0.8\n",
              "Profit                                      8399.98\n",
              "dtype: object"
            ]
          },
          "metadata": {
            "tags": []
          },
          "execution_count": 196
        }
      ]
    },
    {
      "cell_type": "code",
      "metadata": {
        "id": "Oq0RH0MTeiGx",
        "colab_type": "code",
        "colab": {
          "base_uri": "https://localhost:8080/",
          "height": 386
        },
        "outputId": "b7d048ab-7214-43f4-e54f-8c914199a30f"
      },
      "source": [
        "np.min(data)"
      ],
      "execution_count": 197,
      "outputs": [
        {
          "output_type": "execute_result",
          "data": {
            "text/plain": [
              "Row ID                                                           1\n",
              "Order ID                                            CA-2014-100006\n",
              "Order Date                                     2014-01-03 00:00:00\n",
              "Ship Date                                      2014-01-07 00:00:00\n",
              "Ship Mode                                              First Class\n",
              "Customer ID                                               AA-10315\n",
              "Customer Name                                        Aaron Bergman\n",
              "Segment                                                   Consumer\n",
              "Country                                              United States\n",
              "City                                                      Aberdeen\n",
              "State                                                      Alabama\n",
              "Postal Code                                                   1040\n",
              "Region                                                     Central\n",
              "Product ID                                         FUR-BO-10000112\n",
              "Category                                                 Furniture\n",
              "Sub-Category                                           Accessories\n",
              "Product Name     \"While you Were Out\" Message Book, One Form pe...\n",
              "Sales                                                        0.444\n",
              "Quantity                                                         1\n",
              "Discount                                                         0\n",
              "Profit                                                    -6599.98\n",
              "dtype: object"
            ]
          },
          "metadata": {
            "tags": []
          },
          "execution_count": 197
        }
      ]
    },
    {
      "cell_type": "code",
      "metadata": {
        "id": "I4wHSiwvejsS",
        "colab_type": "code",
        "colab": {
          "base_uri": "https://localhost:8080/",
          "height": 134
        },
        "outputId": "f96e7265-625b-4678-fadc-ddd340dc7648"
      },
      "source": [
        "np.mean(data)"
      ],
      "execution_count": 198,
      "outputs": [
        {
          "output_type": "execute_result",
          "data": {
            "text/plain": [
              "Row ID          4997.500000\n",
              "Postal Code    55190.379428\n",
              "Sales            229.858001\n",
              "Quantity           3.789574\n",
              "Discount           0.156203\n",
              "Profit            28.656896\n",
              "dtype: float64"
            ]
          },
          "metadata": {
            "tags": []
          },
          "execution_count": 198
        }
      ]
    },
    {
      "cell_type": "code",
      "metadata": {
        "id": "zTWURRF_eoJF",
        "colab_type": "code",
        "colab": {
          "base_uri": "https://localhost:8080/",
          "height": 34
        },
        "outputId": "162168e1-edcf-4a9c-e21f-51a11e0c08b8"
      },
      "source": [
        "np.count_nonzero(data,axis=1)"
      ],
      "execution_count": 199,
      "outputs": [
        {
          "output_type": "execute_result",
          "data": {
            "text/plain": [
              "array([20, 20, 20, ..., 21, 20, 20])"
            ]
          },
          "metadata": {
            "tags": []
          },
          "execution_count": 199
        }
      ]
    },
    {
      "cell_type": "code",
      "metadata": {
        "id": "yPqP_L-NfK5h",
        "colab_type": "code",
        "colab": {
          "base_uri": "https://localhost:8080/",
          "height": 34
        },
        "outputId": "8c36e852-99e1-4236-f4af-7259386478ac"
      },
      "source": [
        "data.shape"
      ],
      "execution_count": 200,
      "outputs": [
        {
          "output_type": "execute_result",
          "data": {
            "text/plain": [
              "(9994, 21)"
            ]
          },
          "metadata": {
            "tags": []
          },
          "execution_count": 200
        }
      ]
    },
    {
      "cell_type": "code",
      "metadata": {
        "id": "30nrwv2mfXDm",
        "colab_type": "code",
        "colab": {
          "base_uri": "https://localhost:8080/",
          "height": 34
        },
        "outputId": "ec4ac8c2-0ebc-47dd-9e89-296e6a71f7b7"
      },
      "source": [
        "data.size"
      ],
      "execution_count": 201,
      "outputs": [
        {
          "output_type": "execute_result",
          "data": {
            "text/plain": [
              "209874"
            ]
          },
          "metadata": {
            "tags": []
          },
          "execution_count": 201
        }
      ]
    },
    {
      "cell_type": "code",
      "metadata": {
        "id": "oSg9OF5gfZAk",
        "colab_type": "code",
        "colab": {
          "base_uri": "https://localhost:8080/",
          "height": 34
        },
        "outputId": "0bc10867-426c-4cf7-af15-bbb2ac79a2d5"
      },
      "source": [
        "data.ndim"
      ],
      "execution_count": 202,
      "outputs": [
        {
          "output_type": "execute_result",
          "data": {
            "text/plain": [
              "2"
            ]
          },
          "metadata": {
            "tags": []
          },
          "execution_count": 202
        }
      ]
    },
    {
      "cell_type": "code",
      "metadata": {
        "id": "S6JFG6ptfbtd",
        "colab_type": "code",
        "colab": {
          "base_uri": "https://localhost:8080/",
          "height": 101
        },
        "outputId": "0d1271fd-44e5-49bd-9af5-90d83348e8fd"
      },
      "source": [
        "data.columns"
      ],
      "execution_count": 203,
      "outputs": [
        {
          "output_type": "execute_result",
          "data": {
            "text/plain": [
              "Index(['Row ID', 'Order ID', 'Order Date', 'Ship Date', 'Ship Mode',\n",
              "       'Customer ID', 'Customer Name', 'Segment', 'Country', 'City', 'State',\n",
              "       'Postal Code', 'Region', 'Product ID', 'Category', 'Sub-Category',\n",
              "       'Product Name', 'Sales', 'Quantity', 'Discount', 'Profit'],\n",
              "      dtype='object')"
            ]
          },
          "metadata": {
            "tags": []
          },
          "execution_count": 203
        }
      ]
    },
    {
      "cell_type": "code",
      "metadata": {
        "id": "hIHwXQqAfop9",
        "colab_type": "code",
        "colab": {
          "base_uri": "https://localhost:8080/",
          "height": 386
        },
        "outputId": "3c653832-05c0-428a-947c-ed77ffe24461"
      },
      "source": [
        "data.isnull().sum()"
      ],
      "execution_count": 204,
      "outputs": [
        {
          "output_type": "execute_result",
          "data": {
            "text/plain": [
              "Row ID           0\n",
              "Order ID         0\n",
              "Order Date       0\n",
              "Ship Date        0\n",
              "Ship Mode        0\n",
              "Customer ID      0\n",
              "Customer Name    0\n",
              "Segment          0\n",
              "Country          0\n",
              "City             0\n",
              "State            0\n",
              "Postal Code      0\n",
              "Region           0\n",
              "Product ID       0\n",
              "Category         0\n",
              "Sub-Category     0\n",
              "Product Name     0\n",
              "Sales            0\n",
              "Quantity         0\n",
              "Discount         0\n",
              "Profit           0\n",
              "dtype: int64"
            ]
          },
          "metadata": {
            "tags": []
          },
          "execution_count": 204
        }
      ]
    },
    {
      "cell_type": "code",
      "metadata": {
        "id": "4GjtS_GNf6Wz",
        "colab_type": "code",
        "colab": {
          "base_uri": "https://localhost:8080/",
          "height": 225
        },
        "outputId": "a77ef961-ded6-4e42-be97-c043231a128b"
      },
      "source": [
        "data.corr()"
      ],
      "execution_count": 205,
      "outputs": [
        {
          "output_type": "execute_result",
          "data": {
            "text/html": [
              "<div>\n",
              "<style scoped>\n",
              "    .dataframe tbody tr th:only-of-type {\n",
              "        vertical-align: middle;\n",
              "    }\n",
              "\n",
              "    .dataframe tbody tr th {\n",
              "        vertical-align: top;\n",
              "    }\n",
              "\n",
              "    .dataframe thead th {\n",
              "        text-align: right;\n",
              "    }\n",
              "</style>\n",
              "<table border=\"1\" class=\"dataframe\">\n",
              "  <thead>\n",
              "    <tr style=\"text-align: right;\">\n",
              "      <th></th>\n",
              "      <th>Row ID</th>\n",
              "      <th>Postal Code</th>\n",
              "      <th>Sales</th>\n",
              "      <th>Quantity</th>\n",
              "      <th>Discount</th>\n",
              "      <th>Profit</th>\n",
              "    </tr>\n",
              "  </thead>\n",
              "  <tbody>\n",
              "    <tr>\n",
              "      <th>Row ID</th>\n",
              "      <td>1.000000</td>\n",
              "      <td>0.009671</td>\n",
              "      <td>-0.001359</td>\n",
              "      <td>-0.004016</td>\n",
              "      <td>0.013480</td>\n",
              "      <td>0.012497</td>\n",
              "    </tr>\n",
              "    <tr>\n",
              "      <th>Postal Code</th>\n",
              "      <td>0.009671</td>\n",
              "      <td>1.000000</td>\n",
              "      <td>-0.023854</td>\n",
              "      <td>0.012761</td>\n",
              "      <td>0.058443</td>\n",
              "      <td>-0.029961</td>\n",
              "    </tr>\n",
              "    <tr>\n",
              "      <th>Sales</th>\n",
              "      <td>-0.001359</td>\n",
              "      <td>-0.023854</td>\n",
              "      <td>1.000000</td>\n",
              "      <td>0.200795</td>\n",
              "      <td>-0.028190</td>\n",
              "      <td>0.479064</td>\n",
              "    </tr>\n",
              "    <tr>\n",
              "      <th>Quantity</th>\n",
              "      <td>-0.004016</td>\n",
              "      <td>0.012761</td>\n",
              "      <td>0.200795</td>\n",
              "      <td>1.000000</td>\n",
              "      <td>0.008623</td>\n",
              "      <td>0.066253</td>\n",
              "    </tr>\n",
              "    <tr>\n",
              "      <th>Discount</th>\n",
              "      <td>0.013480</td>\n",
              "      <td>0.058443</td>\n",
              "      <td>-0.028190</td>\n",
              "      <td>0.008623</td>\n",
              "      <td>1.000000</td>\n",
              "      <td>-0.219487</td>\n",
              "    </tr>\n",
              "    <tr>\n",
              "      <th>Profit</th>\n",
              "      <td>0.012497</td>\n",
              "      <td>-0.029961</td>\n",
              "      <td>0.479064</td>\n",
              "      <td>0.066253</td>\n",
              "      <td>-0.219487</td>\n",
              "      <td>1.000000</td>\n",
              "    </tr>\n",
              "  </tbody>\n",
              "</table>\n",
              "</div>"
            ],
            "text/plain": [
              "               Row ID  Postal Code     Sales  Quantity  Discount    Profit\n",
              "Row ID       1.000000     0.009671 -0.001359 -0.004016  0.013480  0.012497\n",
              "Postal Code  0.009671     1.000000 -0.023854  0.012761  0.058443 -0.029961\n",
              "Sales       -0.001359    -0.023854  1.000000  0.200795 -0.028190  0.479064\n",
              "Quantity    -0.004016     0.012761  0.200795  1.000000  0.008623  0.066253\n",
              "Discount     0.013480     0.058443 -0.028190  0.008623  1.000000 -0.219487\n",
              "Profit       0.012497    -0.029961  0.479064  0.066253 -0.219487  1.000000"
            ]
          },
          "metadata": {
            "tags": []
          },
          "execution_count": 205
        }
      ]
    },
    {
      "cell_type": "markdown",
      "metadata": {
        "id": "aBWKhG-ZVP2r",
        "colab_type": "text"
      },
      "source": [
        "##Task 3\n",
        "Find out the per unit price from the data\n",
        "\n",
        "a. Convert date time field into pandas time object\n",
        "\n",
        "b. Find out the price per unit from the data and create a column for it in\n",
        "the same data"
      ]
    },
    {
      "cell_type": "code",
      "metadata": {
        "id": "qbidopakgLsN",
        "colab_type": "code",
        "colab": {}
      },
      "source": [
        "df=pd.DataFrame(data)"
      ],
      "execution_count": 206,
      "outputs": []
    },
    {
      "cell_type": "code",
      "metadata": {
        "id": "ioa5sPKHhmII",
        "colab_type": "code",
        "colab": {
          "base_uri": "https://localhost:8080/",
          "height": 534
        },
        "outputId": "72c7d75d-cff4-4d1c-e5be-03fbf21105a8"
      },
      "source": [
        "df.head()"
      ],
      "execution_count": 207,
      "outputs": [
        {
          "output_type": "execute_result",
          "data": {
            "text/html": [
              "<div>\n",
              "<style scoped>\n",
              "    .dataframe tbody tr th:only-of-type {\n",
              "        vertical-align: middle;\n",
              "    }\n",
              "\n",
              "    .dataframe tbody tr th {\n",
              "        vertical-align: top;\n",
              "    }\n",
              "\n",
              "    .dataframe thead th {\n",
              "        text-align: right;\n",
              "    }\n",
              "</style>\n",
              "<table border=\"1\" class=\"dataframe\">\n",
              "  <thead>\n",
              "    <tr style=\"text-align: right;\">\n",
              "      <th></th>\n",
              "      <th>Row ID</th>\n",
              "      <th>Order ID</th>\n",
              "      <th>Order Date</th>\n",
              "      <th>Ship Date</th>\n",
              "      <th>Ship Mode</th>\n",
              "      <th>Customer ID</th>\n",
              "      <th>Customer Name</th>\n",
              "      <th>Segment</th>\n",
              "      <th>Country</th>\n",
              "      <th>City</th>\n",
              "      <th>State</th>\n",
              "      <th>Postal Code</th>\n",
              "      <th>Region</th>\n",
              "      <th>Product ID</th>\n",
              "      <th>Category</th>\n",
              "      <th>Sub-Category</th>\n",
              "      <th>Product Name</th>\n",
              "      <th>Sales</th>\n",
              "      <th>Quantity</th>\n",
              "      <th>Discount</th>\n",
              "      <th>Profit</th>\n",
              "    </tr>\n",
              "  </thead>\n",
              "  <tbody>\n",
              "    <tr>\n",
              "      <th>0</th>\n",
              "      <td>1</td>\n",
              "      <td>CA-2016-152156</td>\n",
              "      <td>2016-11-08</td>\n",
              "      <td>2016-11-11</td>\n",
              "      <td>Second Class</td>\n",
              "      <td>CG-12520</td>\n",
              "      <td>Claire Gute</td>\n",
              "      <td>Consumer</td>\n",
              "      <td>United States</td>\n",
              "      <td>Henderson</td>\n",
              "      <td>Kentucky</td>\n",
              "      <td>42420</td>\n",
              "      <td>South</td>\n",
              "      <td>FUR-BO-10001798</td>\n",
              "      <td>Furniture</td>\n",
              "      <td>Bookcases</td>\n",
              "      <td>Bush Somerset Collection Bookcase</td>\n",
              "      <td>261.9600</td>\n",
              "      <td>2</td>\n",
              "      <td>0.00</td>\n",
              "      <td>41.9136</td>\n",
              "    </tr>\n",
              "    <tr>\n",
              "      <th>1</th>\n",
              "      <td>2</td>\n",
              "      <td>CA-2016-152156</td>\n",
              "      <td>2016-11-08</td>\n",
              "      <td>2016-11-11</td>\n",
              "      <td>Second Class</td>\n",
              "      <td>CG-12520</td>\n",
              "      <td>Claire Gute</td>\n",
              "      <td>Consumer</td>\n",
              "      <td>United States</td>\n",
              "      <td>Henderson</td>\n",
              "      <td>Kentucky</td>\n",
              "      <td>42420</td>\n",
              "      <td>South</td>\n",
              "      <td>FUR-CH-10000454</td>\n",
              "      <td>Furniture</td>\n",
              "      <td>Chairs</td>\n",
              "      <td>Hon Deluxe Fabric Upholstered Stacking Chairs,...</td>\n",
              "      <td>731.9400</td>\n",
              "      <td>3</td>\n",
              "      <td>0.00</td>\n",
              "      <td>219.5820</td>\n",
              "    </tr>\n",
              "    <tr>\n",
              "      <th>2</th>\n",
              "      <td>3</td>\n",
              "      <td>CA-2016-138688</td>\n",
              "      <td>2016-06-12</td>\n",
              "      <td>2016-06-16</td>\n",
              "      <td>Second Class</td>\n",
              "      <td>DV-13045</td>\n",
              "      <td>Darrin Van Huff</td>\n",
              "      <td>Corporate</td>\n",
              "      <td>United States</td>\n",
              "      <td>Los Angeles</td>\n",
              "      <td>California</td>\n",
              "      <td>90036</td>\n",
              "      <td>West</td>\n",
              "      <td>OFF-LA-10000240</td>\n",
              "      <td>Office Supplies</td>\n",
              "      <td>Labels</td>\n",
              "      <td>Self-Adhesive Address Labels for Typewriters b...</td>\n",
              "      <td>14.6200</td>\n",
              "      <td>2</td>\n",
              "      <td>0.00</td>\n",
              "      <td>6.8714</td>\n",
              "    </tr>\n",
              "    <tr>\n",
              "      <th>3</th>\n",
              "      <td>4</td>\n",
              "      <td>US-2015-108966</td>\n",
              "      <td>2015-10-11</td>\n",
              "      <td>2015-10-18</td>\n",
              "      <td>Standard Class</td>\n",
              "      <td>SO-20335</td>\n",
              "      <td>Sean O'Donnell</td>\n",
              "      <td>Consumer</td>\n",
              "      <td>United States</td>\n",
              "      <td>Fort Lauderdale</td>\n",
              "      <td>Florida</td>\n",
              "      <td>33311</td>\n",
              "      <td>South</td>\n",
              "      <td>FUR-TA-10000577</td>\n",
              "      <td>Furniture</td>\n",
              "      <td>Tables</td>\n",
              "      <td>Bretford CR4500 Series Slim Rectangular Table</td>\n",
              "      <td>957.5775</td>\n",
              "      <td>5</td>\n",
              "      <td>0.45</td>\n",
              "      <td>-383.0310</td>\n",
              "    </tr>\n",
              "    <tr>\n",
              "      <th>4</th>\n",
              "      <td>5</td>\n",
              "      <td>US-2015-108966</td>\n",
              "      <td>2015-10-11</td>\n",
              "      <td>2015-10-18</td>\n",
              "      <td>Standard Class</td>\n",
              "      <td>SO-20335</td>\n",
              "      <td>Sean O'Donnell</td>\n",
              "      <td>Consumer</td>\n",
              "      <td>United States</td>\n",
              "      <td>Fort Lauderdale</td>\n",
              "      <td>Florida</td>\n",
              "      <td>33311</td>\n",
              "      <td>South</td>\n",
              "      <td>OFF-ST-10000760</td>\n",
              "      <td>Office Supplies</td>\n",
              "      <td>Storage</td>\n",
              "      <td>Eldon Fold 'N Roll Cart System</td>\n",
              "      <td>22.3680</td>\n",
              "      <td>2</td>\n",
              "      <td>0.20</td>\n",
              "      <td>2.5164</td>\n",
              "    </tr>\n",
              "  </tbody>\n",
              "</table>\n",
              "</div>"
            ],
            "text/plain": [
              "   Row ID        Order ID Order Date  ... Quantity Discount    Profit\n",
              "0       1  CA-2016-152156 2016-11-08  ...        2     0.00   41.9136\n",
              "1       2  CA-2016-152156 2016-11-08  ...        3     0.00  219.5820\n",
              "2       3  CA-2016-138688 2016-06-12  ...        2     0.00    6.8714\n",
              "3       4  US-2015-108966 2015-10-11  ...        5     0.45 -383.0310\n",
              "4       5  US-2015-108966 2015-10-11  ...        2     0.20    2.5164\n",
              "\n",
              "[5 rows x 21 columns]"
            ]
          },
          "metadata": {
            "tags": []
          },
          "execution_count": 207
        }
      ]
    },
    {
      "cell_type": "code",
      "metadata": {
        "id": "iuHtFa8Hh2z4",
        "colab_type": "code",
        "colab": {}
      },
      "source": [
        "df['Price_per_unit']=df['Sales']/df[\"Quantity\"]"
      ],
      "execution_count": 208,
      "outputs": []
    },
    {
      "cell_type": "code",
      "metadata": {
        "id": "7lII1pP7imw0",
        "colab_type": "code",
        "colab": {
          "base_uri": "https://localhost:8080/",
          "height": 374
        },
        "outputId": "0476ddad-ec70-4f8a-c7b4-254613fdcd5f"
      },
      "source": [
        "df.head(3)"
      ],
      "execution_count": 209,
      "outputs": [
        {
          "output_type": "execute_result",
          "data": {
            "text/html": [
              "<div>\n",
              "<style scoped>\n",
              "    .dataframe tbody tr th:only-of-type {\n",
              "        vertical-align: middle;\n",
              "    }\n",
              "\n",
              "    .dataframe tbody tr th {\n",
              "        vertical-align: top;\n",
              "    }\n",
              "\n",
              "    .dataframe thead th {\n",
              "        text-align: right;\n",
              "    }\n",
              "</style>\n",
              "<table border=\"1\" class=\"dataframe\">\n",
              "  <thead>\n",
              "    <tr style=\"text-align: right;\">\n",
              "      <th></th>\n",
              "      <th>Row ID</th>\n",
              "      <th>Order ID</th>\n",
              "      <th>Order Date</th>\n",
              "      <th>Ship Date</th>\n",
              "      <th>Ship Mode</th>\n",
              "      <th>Customer ID</th>\n",
              "      <th>Customer Name</th>\n",
              "      <th>Segment</th>\n",
              "      <th>Country</th>\n",
              "      <th>City</th>\n",
              "      <th>State</th>\n",
              "      <th>Postal Code</th>\n",
              "      <th>Region</th>\n",
              "      <th>Product ID</th>\n",
              "      <th>Category</th>\n",
              "      <th>Sub-Category</th>\n",
              "      <th>Product Name</th>\n",
              "      <th>Sales</th>\n",
              "      <th>Quantity</th>\n",
              "      <th>Discount</th>\n",
              "      <th>Profit</th>\n",
              "      <th>Price_per_unit</th>\n",
              "    </tr>\n",
              "  </thead>\n",
              "  <tbody>\n",
              "    <tr>\n",
              "      <th>0</th>\n",
              "      <td>1</td>\n",
              "      <td>CA-2016-152156</td>\n",
              "      <td>2016-11-08</td>\n",
              "      <td>2016-11-11</td>\n",
              "      <td>Second Class</td>\n",
              "      <td>CG-12520</td>\n",
              "      <td>Claire Gute</td>\n",
              "      <td>Consumer</td>\n",
              "      <td>United States</td>\n",
              "      <td>Henderson</td>\n",
              "      <td>Kentucky</td>\n",
              "      <td>42420</td>\n",
              "      <td>South</td>\n",
              "      <td>FUR-BO-10001798</td>\n",
              "      <td>Furniture</td>\n",
              "      <td>Bookcases</td>\n",
              "      <td>Bush Somerset Collection Bookcase</td>\n",
              "      <td>261.96</td>\n",
              "      <td>2</td>\n",
              "      <td>0.0</td>\n",
              "      <td>41.9136</td>\n",
              "      <td>130.98</td>\n",
              "    </tr>\n",
              "    <tr>\n",
              "      <th>1</th>\n",
              "      <td>2</td>\n",
              "      <td>CA-2016-152156</td>\n",
              "      <td>2016-11-08</td>\n",
              "      <td>2016-11-11</td>\n",
              "      <td>Second Class</td>\n",
              "      <td>CG-12520</td>\n",
              "      <td>Claire Gute</td>\n",
              "      <td>Consumer</td>\n",
              "      <td>United States</td>\n",
              "      <td>Henderson</td>\n",
              "      <td>Kentucky</td>\n",
              "      <td>42420</td>\n",
              "      <td>South</td>\n",
              "      <td>FUR-CH-10000454</td>\n",
              "      <td>Furniture</td>\n",
              "      <td>Chairs</td>\n",
              "      <td>Hon Deluxe Fabric Upholstered Stacking Chairs,...</td>\n",
              "      <td>731.94</td>\n",
              "      <td>3</td>\n",
              "      <td>0.0</td>\n",
              "      <td>219.5820</td>\n",
              "      <td>243.98</td>\n",
              "    </tr>\n",
              "    <tr>\n",
              "      <th>2</th>\n",
              "      <td>3</td>\n",
              "      <td>CA-2016-138688</td>\n",
              "      <td>2016-06-12</td>\n",
              "      <td>2016-06-16</td>\n",
              "      <td>Second Class</td>\n",
              "      <td>DV-13045</td>\n",
              "      <td>Darrin Van Huff</td>\n",
              "      <td>Corporate</td>\n",
              "      <td>United States</td>\n",
              "      <td>Los Angeles</td>\n",
              "      <td>California</td>\n",
              "      <td>90036</td>\n",
              "      <td>West</td>\n",
              "      <td>OFF-LA-10000240</td>\n",
              "      <td>Office Supplies</td>\n",
              "      <td>Labels</td>\n",
              "      <td>Self-Adhesive Address Labels for Typewriters b...</td>\n",
              "      <td>14.62</td>\n",
              "      <td>2</td>\n",
              "      <td>0.0</td>\n",
              "      <td>6.8714</td>\n",
              "      <td>7.31</td>\n",
              "    </tr>\n",
              "  </tbody>\n",
              "</table>\n",
              "</div>"
            ],
            "text/plain": [
              "   Row ID        Order ID Order Date  ... Discount    Profit Price_per_unit\n",
              "0       1  CA-2016-152156 2016-11-08  ...      0.0   41.9136         130.98\n",
              "1       2  CA-2016-152156 2016-11-08  ...      0.0  219.5820         243.98\n",
              "2       3  CA-2016-138688 2016-06-12  ...      0.0    6.8714           7.31\n",
              "\n",
              "[3 rows x 22 columns]"
            ]
          },
          "metadata": {
            "tags": []
          },
          "execution_count": 209
        }
      ]
    },
    {
      "cell_type": "code",
      "metadata": {
        "id": "tXlSSQVeintZ",
        "colab_type": "code",
        "colab": {
          "base_uri": "https://localhost:8080/",
          "height": 218
        },
        "outputId": "5f4aee88-9127-4a31-83e0-b682bf3986cf"
      },
      "source": [
        "pd.to_datetime(df['Order Date'])"
      ],
      "execution_count": 210,
      "outputs": [
        {
          "output_type": "execute_result",
          "data": {
            "text/plain": [
              "0      2016-11-08\n",
              "1      2016-11-08\n",
              "2      2016-06-12\n",
              "3      2015-10-11\n",
              "4      2015-10-11\n",
              "          ...    \n",
              "9989   2014-01-21\n",
              "9990   2017-02-26\n",
              "9991   2017-02-26\n",
              "9992   2017-02-26\n",
              "9993   2017-05-04\n",
              "Name: Order Date, Length: 9994, dtype: datetime64[ns]"
            ]
          },
          "metadata": {
            "tags": []
          },
          "execution_count": 210
        }
      ]
    },
    {
      "cell_type": "code",
      "metadata": {
        "id": "iDA7cFIkjiFc",
        "colab_type": "code",
        "colab": {
          "base_uri": "https://localhost:8080/",
          "height": 218
        },
        "outputId": "41e230c7-1bdb-4d72-aaba-c9d5decc15d3"
      },
      "source": [
        "pd.to_datetime(df['Ship Date'])"
      ],
      "execution_count": 211,
      "outputs": [
        {
          "output_type": "execute_result",
          "data": {
            "text/plain": [
              "0      2016-11-11\n",
              "1      2016-11-11\n",
              "2      2016-06-16\n",
              "3      2015-10-18\n",
              "4      2015-10-18\n",
              "          ...    \n",
              "9989   2014-01-23\n",
              "9990   2017-03-03\n",
              "9991   2017-03-03\n",
              "9992   2017-03-03\n",
              "9993   2017-05-09\n",
              "Name: Ship Date, Length: 9994, dtype: datetime64[ns]"
            ]
          },
          "metadata": {
            "tags": []
          },
          "execution_count": 211
        }
      ]
    },
    {
      "cell_type": "code",
      "metadata": {
        "id": "zxoX5AqTt6H9",
        "colab_type": "code",
        "colab": {
          "base_uri": "https://localhost:8080/",
          "height": 374
        },
        "outputId": "a22504ec-a3e8-490a-ccc2-f118a7893404"
      },
      "source": [
        "df.head(3)"
      ],
      "execution_count": 212,
      "outputs": [
        {
          "output_type": "execute_result",
          "data": {
            "text/html": [
              "<div>\n",
              "<style scoped>\n",
              "    .dataframe tbody tr th:only-of-type {\n",
              "        vertical-align: middle;\n",
              "    }\n",
              "\n",
              "    .dataframe tbody tr th {\n",
              "        vertical-align: top;\n",
              "    }\n",
              "\n",
              "    .dataframe thead th {\n",
              "        text-align: right;\n",
              "    }\n",
              "</style>\n",
              "<table border=\"1\" class=\"dataframe\">\n",
              "  <thead>\n",
              "    <tr style=\"text-align: right;\">\n",
              "      <th></th>\n",
              "      <th>Row ID</th>\n",
              "      <th>Order ID</th>\n",
              "      <th>Order Date</th>\n",
              "      <th>Ship Date</th>\n",
              "      <th>Ship Mode</th>\n",
              "      <th>Customer ID</th>\n",
              "      <th>Customer Name</th>\n",
              "      <th>Segment</th>\n",
              "      <th>Country</th>\n",
              "      <th>City</th>\n",
              "      <th>State</th>\n",
              "      <th>Postal Code</th>\n",
              "      <th>Region</th>\n",
              "      <th>Product ID</th>\n",
              "      <th>Category</th>\n",
              "      <th>Sub-Category</th>\n",
              "      <th>Product Name</th>\n",
              "      <th>Sales</th>\n",
              "      <th>Quantity</th>\n",
              "      <th>Discount</th>\n",
              "      <th>Profit</th>\n",
              "      <th>Price_per_unit</th>\n",
              "    </tr>\n",
              "  </thead>\n",
              "  <tbody>\n",
              "    <tr>\n",
              "      <th>0</th>\n",
              "      <td>1</td>\n",
              "      <td>CA-2016-152156</td>\n",
              "      <td>2016-11-08</td>\n",
              "      <td>2016-11-11</td>\n",
              "      <td>Second Class</td>\n",
              "      <td>CG-12520</td>\n",
              "      <td>Claire Gute</td>\n",
              "      <td>Consumer</td>\n",
              "      <td>United States</td>\n",
              "      <td>Henderson</td>\n",
              "      <td>Kentucky</td>\n",
              "      <td>42420</td>\n",
              "      <td>South</td>\n",
              "      <td>FUR-BO-10001798</td>\n",
              "      <td>Furniture</td>\n",
              "      <td>Bookcases</td>\n",
              "      <td>Bush Somerset Collection Bookcase</td>\n",
              "      <td>261.96</td>\n",
              "      <td>2</td>\n",
              "      <td>0.0</td>\n",
              "      <td>41.9136</td>\n",
              "      <td>130.98</td>\n",
              "    </tr>\n",
              "    <tr>\n",
              "      <th>1</th>\n",
              "      <td>2</td>\n",
              "      <td>CA-2016-152156</td>\n",
              "      <td>2016-11-08</td>\n",
              "      <td>2016-11-11</td>\n",
              "      <td>Second Class</td>\n",
              "      <td>CG-12520</td>\n",
              "      <td>Claire Gute</td>\n",
              "      <td>Consumer</td>\n",
              "      <td>United States</td>\n",
              "      <td>Henderson</td>\n",
              "      <td>Kentucky</td>\n",
              "      <td>42420</td>\n",
              "      <td>South</td>\n",
              "      <td>FUR-CH-10000454</td>\n",
              "      <td>Furniture</td>\n",
              "      <td>Chairs</td>\n",
              "      <td>Hon Deluxe Fabric Upholstered Stacking Chairs,...</td>\n",
              "      <td>731.94</td>\n",
              "      <td>3</td>\n",
              "      <td>0.0</td>\n",
              "      <td>219.5820</td>\n",
              "      <td>243.98</td>\n",
              "    </tr>\n",
              "    <tr>\n",
              "      <th>2</th>\n",
              "      <td>3</td>\n",
              "      <td>CA-2016-138688</td>\n",
              "      <td>2016-06-12</td>\n",
              "      <td>2016-06-16</td>\n",
              "      <td>Second Class</td>\n",
              "      <td>DV-13045</td>\n",
              "      <td>Darrin Van Huff</td>\n",
              "      <td>Corporate</td>\n",
              "      <td>United States</td>\n",
              "      <td>Los Angeles</td>\n",
              "      <td>California</td>\n",
              "      <td>90036</td>\n",
              "      <td>West</td>\n",
              "      <td>OFF-LA-10000240</td>\n",
              "      <td>Office Supplies</td>\n",
              "      <td>Labels</td>\n",
              "      <td>Self-Adhesive Address Labels for Typewriters b...</td>\n",
              "      <td>14.62</td>\n",
              "      <td>2</td>\n",
              "      <td>0.0</td>\n",
              "      <td>6.8714</td>\n",
              "      <td>7.31</td>\n",
              "    </tr>\n",
              "  </tbody>\n",
              "</table>\n",
              "</div>"
            ],
            "text/plain": [
              "   Row ID        Order ID Order Date  ... Discount    Profit Price_per_unit\n",
              "0       1  CA-2016-152156 2016-11-08  ...      0.0   41.9136         130.98\n",
              "1       2  CA-2016-152156 2016-11-08  ...      0.0  219.5820         243.98\n",
              "2       3  CA-2016-138688 2016-06-12  ...      0.0    6.8714           7.31\n",
              "\n",
              "[3 rows x 22 columns]"
            ]
          },
          "metadata": {
            "tags": []
          },
          "execution_count": 212
        }
      ]
    },
    {
      "cell_type": "markdown",
      "metadata": {
        "id": "qgUCr4cHsxUw",
        "colab_type": "text"
      },
      "source": [
        "##Task 4\n",
        "Find out the monthly revenue and analyze the findings\n",
        "\n",
        "a.Create a column with Year and month field only give a suitable name to\n",
        "it\n",
        "\n",
        "b.Create a separate dataset from the data which will have two columns ,\n",
        "one which is created in step a of this task and second the monthly sales /revenue\n",
        "\n",
        "c.Plot this dataset\n",
        "\n",
        "d.Describe your analysis for the monthly revenue observations."
      ]
    },
    {
      "cell_type": "code",
      "metadata": {
        "id": "x-DeovYnPEVk",
        "colab_type": "code",
        "colab": {}
      },
      "source": [
        "import datetime as dt\n",
        "df['yr month']=df['Ship Date'].apply(lambda x: x.strftime('%Y-%m'))"
      ],
      "execution_count": 213,
      "outputs": []
    },
    {
      "cell_type": "code",
      "metadata": {
        "id": "dlwYr5-exN5k",
        "colab_type": "code",
        "colab": {
          "base_uri": "https://localhost:8080/",
          "height": 374
        },
        "outputId": "bc1394c2-9f77-49c9-e745-b96ecdda4ba0"
      },
      "source": [
        "df.head(3)"
      ],
      "execution_count": 214,
      "outputs": [
        {
          "output_type": "execute_result",
          "data": {
            "text/html": [
              "<div>\n",
              "<style scoped>\n",
              "    .dataframe tbody tr th:only-of-type {\n",
              "        vertical-align: middle;\n",
              "    }\n",
              "\n",
              "    .dataframe tbody tr th {\n",
              "        vertical-align: top;\n",
              "    }\n",
              "\n",
              "    .dataframe thead th {\n",
              "        text-align: right;\n",
              "    }\n",
              "</style>\n",
              "<table border=\"1\" class=\"dataframe\">\n",
              "  <thead>\n",
              "    <tr style=\"text-align: right;\">\n",
              "      <th></th>\n",
              "      <th>Row ID</th>\n",
              "      <th>Order ID</th>\n",
              "      <th>Order Date</th>\n",
              "      <th>Ship Date</th>\n",
              "      <th>Ship Mode</th>\n",
              "      <th>Customer ID</th>\n",
              "      <th>Customer Name</th>\n",
              "      <th>Segment</th>\n",
              "      <th>Country</th>\n",
              "      <th>City</th>\n",
              "      <th>State</th>\n",
              "      <th>Postal Code</th>\n",
              "      <th>Region</th>\n",
              "      <th>Product ID</th>\n",
              "      <th>Category</th>\n",
              "      <th>Sub-Category</th>\n",
              "      <th>Product Name</th>\n",
              "      <th>Sales</th>\n",
              "      <th>Quantity</th>\n",
              "      <th>Discount</th>\n",
              "      <th>Profit</th>\n",
              "      <th>Price_per_unit</th>\n",
              "      <th>yr month</th>\n",
              "    </tr>\n",
              "  </thead>\n",
              "  <tbody>\n",
              "    <tr>\n",
              "      <th>0</th>\n",
              "      <td>1</td>\n",
              "      <td>CA-2016-152156</td>\n",
              "      <td>2016-11-08</td>\n",
              "      <td>2016-11-11</td>\n",
              "      <td>Second Class</td>\n",
              "      <td>CG-12520</td>\n",
              "      <td>Claire Gute</td>\n",
              "      <td>Consumer</td>\n",
              "      <td>United States</td>\n",
              "      <td>Henderson</td>\n",
              "      <td>Kentucky</td>\n",
              "      <td>42420</td>\n",
              "      <td>South</td>\n",
              "      <td>FUR-BO-10001798</td>\n",
              "      <td>Furniture</td>\n",
              "      <td>Bookcases</td>\n",
              "      <td>Bush Somerset Collection Bookcase</td>\n",
              "      <td>261.96</td>\n",
              "      <td>2</td>\n",
              "      <td>0.0</td>\n",
              "      <td>41.9136</td>\n",
              "      <td>130.98</td>\n",
              "      <td>2016-11</td>\n",
              "    </tr>\n",
              "    <tr>\n",
              "      <th>1</th>\n",
              "      <td>2</td>\n",
              "      <td>CA-2016-152156</td>\n",
              "      <td>2016-11-08</td>\n",
              "      <td>2016-11-11</td>\n",
              "      <td>Second Class</td>\n",
              "      <td>CG-12520</td>\n",
              "      <td>Claire Gute</td>\n",
              "      <td>Consumer</td>\n",
              "      <td>United States</td>\n",
              "      <td>Henderson</td>\n",
              "      <td>Kentucky</td>\n",
              "      <td>42420</td>\n",
              "      <td>South</td>\n",
              "      <td>FUR-CH-10000454</td>\n",
              "      <td>Furniture</td>\n",
              "      <td>Chairs</td>\n",
              "      <td>Hon Deluxe Fabric Upholstered Stacking Chairs,...</td>\n",
              "      <td>731.94</td>\n",
              "      <td>3</td>\n",
              "      <td>0.0</td>\n",
              "      <td>219.5820</td>\n",
              "      <td>243.98</td>\n",
              "      <td>2016-11</td>\n",
              "    </tr>\n",
              "    <tr>\n",
              "      <th>2</th>\n",
              "      <td>3</td>\n",
              "      <td>CA-2016-138688</td>\n",
              "      <td>2016-06-12</td>\n",
              "      <td>2016-06-16</td>\n",
              "      <td>Second Class</td>\n",
              "      <td>DV-13045</td>\n",
              "      <td>Darrin Van Huff</td>\n",
              "      <td>Corporate</td>\n",
              "      <td>United States</td>\n",
              "      <td>Los Angeles</td>\n",
              "      <td>California</td>\n",
              "      <td>90036</td>\n",
              "      <td>West</td>\n",
              "      <td>OFF-LA-10000240</td>\n",
              "      <td>Office Supplies</td>\n",
              "      <td>Labels</td>\n",
              "      <td>Self-Adhesive Address Labels for Typewriters b...</td>\n",
              "      <td>14.62</td>\n",
              "      <td>2</td>\n",
              "      <td>0.0</td>\n",
              "      <td>6.8714</td>\n",
              "      <td>7.31</td>\n",
              "      <td>2016-06</td>\n",
              "    </tr>\n",
              "  </tbody>\n",
              "</table>\n",
              "</div>"
            ],
            "text/plain": [
              "   Row ID        Order ID Order Date  ...    Profit Price_per_unit yr month\n",
              "0       1  CA-2016-152156 2016-11-08  ...   41.9136         130.98  2016-11\n",
              "1       2  CA-2016-152156 2016-11-08  ...  219.5820         243.98  2016-11\n",
              "2       3  CA-2016-138688 2016-06-12  ...    6.8714           7.31  2016-06\n",
              "\n",
              "[3 rows x 23 columns]"
            ]
          },
          "metadata": {
            "tags": []
          },
          "execution_count": 214
        }
      ]
    },
    {
      "cell_type": "code",
      "metadata": {
        "id": "ihkvFKs6m7oU",
        "colab_type": "code",
        "colab": {}
      },
      "source": [
        "results=df.groupby('yr month').sum()\n",
        "month=[month for month,df in df.groupby('yr month')]\n",
        "df2=pd.DataFrame(month,results['Sales'])"
      ],
      "execution_count": 215,
      "outputs": []
    },
    {
      "cell_type": "code",
      "metadata": {
        "id": "NCCeWHoRp6Q4",
        "colab_type": "code",
        "colab": {
          "base_uri": "https://localhost:8080/",
          "height": 225
        },
        "outputId": "6da44107-f59d-413e-a523-d5c2a780308c"
      },
      "source": [
        "df2.head()"
      ],
      "execution_count": 216,
      "outputs": [
        {
          "output_type": "execute_result",
          "data": {
            "text/html": [
              "<div>\n",
              "<style scoped>\n",
              "    .dataframe tbody tr th:only-of-type {\n",
              "        vertical-align: middle;\n",
              "    }\n",
              "\n",
              "    .dataframe tbody tr th {\n",
              "        vertical-align: top;\n",
              "    }\n",
              "\n",
              "    .dataframe thead th {\n",
              "        text-align: right;\n",
              "    }\n",
              "</style>\n",
              "<table border=\"1\" class=\"dataframe\">\n",
              "  <thead>\n",
              "    <tr style=\"text-align: right;\">\n",
              "      <th></th>\n",
              "      <th>0</th>\n",
              "    </tr>\n",
              "    <tr>\n",
              "      <th>Sales</th>\n",
              "      <th></th>\n",
              "    </tr>\n",
              "  </thead>\n",
              "  <tbody>\n",
              "    <tr>\n",
              "      <th>13275.131</th>\n",
              "      <td>2014-01</td>\n",
              "    </tr>\n",
              "    <tr>\n",
              "      <th>5406.528</th>\n",
              "      <td>2014-02</td>\n",
              "    </tr>\n",
              "    <tr>\n",
              "      <th>50708.349</th>\n",
              "      <td>2014-03</td>\n",
              "    </tr>\n",
              "    <tr>\n",
              "      <th>30388.465</th>\n",
              "      <td>2014-04</td>\n",
              "    </tr>\n",
              "    <tr>\n",
              "      <th>22478.880</th>\n",
              "      <td>2014-05</td>\n",
              "    </tr>\n",
              "  </tbody>\n",
              "</table>\n",
              "</div>"
            ],
            "text/plain": [
              "                 0\n",
              "Sales             \n",
              "13275.131  2014-01\n",
              "5406.528   2014-02\n",
              "50708.349  2014-03\n",
              "30388.465  2014-04\n",
              "22478.880  2014-05"
            ]
          },
          "metadata": {
            "tags": []
          },
          "execution_count": 216
        }
      ]
    },
    {
      "cell_type": "code",
      "metadata": {
        "id": "E2gIQdh_WaBR",
        "colab_type": "code",
        "colab": {
          "base_uri": "https://localhost:8080/",
          "height": 84
        },
        "outputId": "37318e3a-f28e-4cbf-9acd-87607dbdbe91"
      },
      "source": [
        "print(df[df.Sales == df.Sales.max()]) "
      ],
      "execution_count": 217,
      "outputs": [
        {
          "output_type": "stream",
          "text": [
            "      Row ID        Order ID Order Date  ...     Profit Price_per_unit yr month\n",
            "2697    2698  CA-2014-145317 2014-03-18  ... -1811.0784        3773.08  2014-03\n",
            "\n",
            "[1 rows x 23 columns]\n"
          ],
          "name": "stdout"
        }
      ]
    },
    {
      "cell_type": "code",
      "metadata": {
        "id": "Xlbu0fzMW9pl",
        "colab_type": "code",
        "colab": {
          "base_uri": "https://localhost:8080/",
          "height": 84
        },
        "outputId": "94f6c69c-a978-4c76-dd8d-efdaea44036d"
      },
      "source": [
        "print(df[df.Sales == df.Sales.min()]) "
      ],
      "execution_count": 218,
      "outputs": [
        {
          "output_type": "stream",
          "text": [
            "      Row ID        Order ID Order Date  ... Profit Price_per_unit yr month\n",
            "4101    4102  US-2017-102288 2017-06-19  ...  -1.11          0.444  2017-06\n",
            "\n",
            "[1 rows x 23 columns]\n"
          ],
          "name": "stdout"
        }
      ]
    },
    {
      "cell_type": "code",
      "metadata": {
        "id": "chC7k3lJQilk",
        "colab_type": "code",
        "colab": {
          "base_uri": "https://localhost:8080/",
          "height": 303
        },
        "outputId": "ecf00395-13fb-44cd-f082-c64e39dc15f3"
      },
      "source": [
        "plt.plot(month,results['Sales'])\n",
        "plt.xticks(month,rotation='vertical',size=8)\n",
        "plt.ylabel(\"Sales\")\n",
        "plt.xlabel(\"Year Month\")\n",
        "plt.show()"
      ],
      "execution_count": 219,
      "outputs": [
        {
          "output_type": "display_data",
          "data": {
            "image/png": "[encoded data removed]",
            "text/plain": [
              "<Figure size 432x288 with 1 Axes>"
            ]
          },
          "metadata": {
            "tags": [],
            "needs_background": "light"
          }
        }
      ]
    },
    {
      "cell_type": "markdown",
      "metadata": {
        "id": "9SAraeGuXAih",
        "colab_type": "text"
      },
      "source": [
        "Analysis Description\n",
        "\n",
        "Here maximum sales was on march 2014 with a price per unit of 3773.08$\n",
        "\n",
        "and minimum sales was on june 2017 with a price per unit of 0.444$"
      ]
    },
    {
      "cell_type": "markdown",
      "metadata": {
        "id": "-hS09JMps1jT",
        "colab_type": "text"
      },
      "source": [
        "##Task 5\n",
        "Find out the yearly revenue and analyze the findings\n",
        "\n",
        "a.Create a column with Year field only give a suitable name to it\n",
        "\n",
        "b.Create a separate dataset from the data which will have two columns ,\n",
        "one which is created in step a of this task and second the yearly sales /\n",
        "revenue\n",
        "\n",
        "c.Plot this dataset\n",
        "\n",
        "d.Describe your analysis for the yearly revenue observations."
      ]
    },
    {
      "cell_type": "code",
      "metadata": {
        "id": "1sNL8mxZpCBE",
        "colab_type": "code",
        "colab": {}
      },
      "source": [
        "df['year'] = pd.DatetimeIndex(df['Ship Date']).year"
      ],
      "execution_count": 220,
      "outputs": []
    },
    {
      "cell_type": "code",
      "metadata": {
        "id": "PeaCdaX9tTiV",
        "colab_type": "code",
        "colab": {
          "base_uri": "https://localhost:8080/",
          "height": 374
        },
        "outputId": "25df221b-8b95-41ab-f78e-e2060d778472"
      },
      "source": [
        "df.head(3)"
      ],
      "execution_count": 221,
      "outputs": [
        {
          "output_type": "execute_result",
          "data": {
            "text/html": [
              "<div>\n",
              "<style scoped>\n",
              "    .dataframe tbody tr th:only-of-type {\n",
              "        vertical-align: middle;\n",
              "    }\n",
              "\n",
              "    .dataframe tbody tr th {\n",
              "        vertical-align: top;\n",
              "    }\n",
              "\n",
              "    .dataframe thead th {\n",
              "        text-align: right;\n",
              "    }\n",
              "</style>\n",
              "<table border=\"1\" class=\"dataframe\">\n",
              "  <thead>\n",
              "    <tr style=\"text-align: right;\">\n",
              "      <th></th>\n",
              "      <th>Row ID</th>\n",
              "      <th>Order ID</th>\n",
              "      <th>Order Date</th>\n",
              "      <th>Ship Date</th>\n",
              "      <th>Ship Mode</th>\n",
              "      <th>Customer ID</th>\n",
              "      <th>Customer Name</th>\n",
              "      <th>Segment</th>\n",
              "      <th>Country</th>\n",
              "      <th>City</th>\n",
              "      <th>State</th>\n",
              "      <th>Postal Code</th>\n",
              "      <th>Region</th>\n",
              "      <th>Product ID</th>\n",
              "      <th>Category</th>\n",
              "      <th>Sub-Category</th>\n",
              "      <th>Product Name</th>\n",
              "      <th>Sales</th>\n",
              "      <th>Quantity</th>\n",
              "      <th>Discount</th>\n",
              "      <th>Profit</th>\n",
              "      <th>Price_per_unit</th>\n",
              "      <th>yr month</th>\n",
              "      <th>year</th>\n",
              "    </tr>\n",
              "  </thead>\n",
              "  <tbody>\n",
              "    <tr>\n",
              "      <th>0</th>\n",
              "      <td>1</td>\n",
              "      <td>CA-2016-152156</td>\n",
              "      <td>2016-11-08</td>\n",
              "      <td>2016-11-11</td>\n",
              "      <td>Second Class</td>\n",
              "      <td>CG-12520</td>\n",
              "      <td>Claire Gute</td>\n",
              "      <td>Consumer</td>\n",
              "      <td>United States</td>\n",
              "      <td>Henderson</td>\n",
              "      <td>Kentucky</td>\n",
              "      <td>42420</td>\n",
              "      <td>South</td>\n",
              "      <td>FUR-BO-10001798</td>\n",
              "      <td>Furniture</td>\n",
              "      <td>Bookcases</td>\n",
              "      <td>Bush Somerset Collection Bookcase</td>\n",
              "      <td>261.96</td>\n",
              "      <td>2</td>\n",
              "      <td>0.0</td>\n",
              "      <td>41.9136</td>\n",
              "      <td>130.98</td>\n",
              "      <td>2016-11</td>\n",
              "      <td>2016</td>\n",
              "    </tr>\n",
              "    <tr>\n",
              "      <th>1</th>\n",
              "      <td>2</td>\n",
              "      <td>CA-2016-152156</td>\n",
              "      <td>2016-11-08</td>\n",
              "      <td>2016-11-11</td>\n",
              "      <td>Second Class</td>\n",
              "      <td>CG-12520</td>\n",
              "      <td>Claire Gute</td>\n",
              "      <td>Consumer</td>\n",
              "      <td>United States</td>\n",
              "      <td>Henderson</td>\n",
              "      <td>Kentucky</td>\n",
              "      <td>42420</td>\n",
              "      <td>South</td>\n",
              "      <td>FUR-CH-10000454</td>\n",
              "      <td>Furniture</td>\n",
              "      <td>Chairs</td>\n",
              "      <td>Hon Deluxe Fabric Upholstered Stacking Chairs,...</td>\n",
              "      <td>731.94</td>\n",
              "      <td>3</td>\n",
              "      <td>0.0</td>\n",
              "      <td>219.5820</td>\n",
              "      <td>243.98</td>\n",
              "      <td>2016-11</td>\n",
              "      <td>2016</td>\n",
              "    </tr>\n",
              "    <tr>\n",
              "      <th>2</th>\n",
              "      <td>3</td>\n",
              "      <td>CA-2016-138688</td>\n",
              "      <td>2016-06-12</td>\n",
              "      <td>2016-06-16</td>\n",
              "      <td>Second Class</td>\n",
              "      <td>DV-13045</td>\n",
              "      <td>Darrin Van Huff</td>\n",
              "      <td>Corporate</td>\n",
              "      <td>United States</td>\n",
              "      <td>Los Angeles</td>\n",
              "      <td>California</td>\n",
              "      <td>90036</td>\n",
              "      <td>West</td>\n",
              "      <td>OFF-LA-10000240</td>\n",
              "      <td>Office Supplies</td>\n",
              "      <td>Labels</td>\n",
              "      <td>Self-Adhesive Address Labels for Typewriters b...</td>\n",
              "      <td>14.62</td>\n",
              "      <td>2</td>\n",
              "      <td>0.0</td>\n",
              "      <td>6.8714</td>\n",
              "      <td>7.31</td>\n",
              "      <td>2016-06</td>\n",
              "      <td>2016</td>\n",
              "    </tr>\n",
              "  </tbody>\n",
              "</table>\n",
              "</div>"
            ],
            "text/plain": [
              "   Row ID        Order ID Order Date  ... Price_per_unit yr month  year\n",
              "0       1  CA-2016-152156 2016-11-08  ...         130.98  2016-11  2016\n",
              "1       2  CA-2016-152156 2016-11-08  ...         243.98  2016-11  2016\n",
              "2       3  CA-2016-138688 2016-06-12  ...           7.31  2016-06  2016\n",
              "\n",
              "[3 rows x 24 columns]"
            ]
          },
          "metadata": {
            "tags": []
          },
          "execution_count": 221
        }
      ]
    },
    {
      "cell_type": "code",
      "metadata": {
        "id": "YN810G-ItjcV",
        "colab_type": "code",
        "colab": {}
      },
      "source": [
        "b=df.groupby('year').sum()"
      ],
      "execution_count": 222,
      "outputs": []
    },
    {
      "cell_type": "code",
      "metadata": {
        "id": "vLmQYcq1XYyI",
        "colab_type": "code",
        "colab": {}
      },
      "source": [
        "yr=[yr for yr,df in df.groupby('year')]"
      ],
      "execution_count": 223,
      "outputs": []
    },
    {
      "cell_type": "code",
      "metadata": {
        "id": "3D8voLiDXNmt",
        "colab_type": "code",
        "colab": {}
      },
      "source": [
        "df3=pd.DataFrame(yr,b['Sales'])"
      ],
      "execution_count": 224,
      "outputs": []
    },
    {
      "cell_type": "code",
      "metadata": {
        "id": "DfqKQPwDXi0-",
        "colab_type": "code",
        "colab": {
          "base_uri": "https://localhost:8080/",
          "height": 225
        },
        "outputId": "b1fe136c-9803-48da-ef41-62631203b34c"
      },
      "source": [
        "df3"
      ],
      "execution_count": 225,
      "outputs": [
        {
          "output_type": "execute_result",
          "data": {
            "text/html": [
              "<div>\n",
              "<style scoped>\n",
              "    .dataframe tbody tr th:only-of-type {\n",
              "        vertical-align: middle;\n",
              "    }\n",
              "\n",
              "    .dataframe tbody tr th {\n",
              "        vertical-align: top;\n",
              "    }\n",
              "\n",
              "    .dataframe thead th {\n",
              "        text-align: right;\n",
              "    }\n",
              "</style>\n",
              "<table border=\"1\" class=\"dataframe\">\n",
              "  <thead>\n",
              "    <tr style=\"text-align: right;\">\n",
              "      <th></th>\n",
              "      <th>0</th>\n",
              "    </tr>\n",
              "    <tr>\n",
              "      <th>Sales</th>\n",
              "      <th></th>\n",
              "    </tr>\n",
              "  </thead>\n",
              "  <tbody>\n",
              "    <tr>\n",
              "      <th>470383.1931</th>\n",
              "      <td>2014</td>\n",
              "    </tr>\n",
              "    <tr>\n",
              "      <th>479442.5020</th>\n",
              "      <td>2015</td>\n",
              "    </tr>\n",
              "    <tr>\n",
              "      <th>611325.7530</th>\n",
              "      <td>2016</td>\n",
              "    </tr>\n",
              "    <tr>\n",
              "      <th>730889.7154</th>\n",
              "      <td>2017</td>\n",
              "    </tr>\n",
              "    <tr>\n",
              "      <th>5159.6968</th>\n",
              "      <td>2018</td>\n",
              "    </tr>\n",
              "  </tbody>\n",
              "</table>\n",
              "</div>"
            ],
            "text/plain": [
              "                0\n",
              "Sales            \n",
              "470383.1931  2014\n",
              "479442.5020  2015\n",
              "611325.7530  2016\n",
              "730889.7154  2017\n",
              "5159.6968    2018"
            ]
          },
          "metadata": {
            "tags": []
          },
          "execution_count": 225
        }
      ]
    },
    {
      "cell_type": "code",
      "metadata": {
        "id": "d7ob7_wUHZ40",
        "colab_type": "code",
        "colab": {
          "base_uri": "https://localhost:8080/",
          "height": 282
        },
        "outputId": "089a94e1-424d-4936-8af1-d5c1bb78e914"
      },
      "source": [
        "plt.plot(yr,b['Sales'])"
      ],
      "execution_count": 226,
      "outputs": [
        {
          "output_type": "execute_result",
          "data": {
            "text/plain": [
              "[<matplotlib.lines.Line2D at 0x7ff31df3cda0>]"
            ]
          },
          "metadata": {
            "tags": []
          },
          "execution_count": 226
        },
        {
          "output_type": "display_data",
          "data": {
            "image/png": "[encoded data removed]",
            "text/plain": [
              "<Figure size 432x288 with 1 Axes>"
            ]
          },
          "metadata": {
            "tags": [],
            "needs_background": "light"
          }
        }
      ]
    },
    {
      "cell_type": "markdown",
      "metadata": {
        "id": "nUHGmqwiL5-p",
        "colab_type": "text"
      },
      "source": [
        "Analysis Description\n",
        "\n",
        "The sales were constant from 2014 * 2015 and then eventually increased till 2017 and then steadily decreased henceforth till 2018 . It shows a that the store went under huge loss after 2017"
      ]
    },
    {
      "cell_type": "markdown",
      "metadata": {
        "id": "De08CNCOMLxk",
        "colab_type": "text"
      },
      "source": [
        "##Task 6\n",
        "Finding out the monthly growth rate and analyse the findings\n",
        "\n",
        "a.Create a column in the monthly revenue dataset for monthly growth\n",
        "rate\n",
        "\n",
        "b.Find out the maximum monthly growth rate\n",
        "\n",
        "c.Plot the findings\n",
        "\n",
        "d.Describe the findings"
      ]
    },
    {
      "cell_type": "code",
      "metadata": {
        "id": "v2fmPIXdHdas",
        "colab_type": "code",
        "colab": {
          "base_uri": "https://localhost:8080/",
          "height": 225
        },
        "outputId": "f7c77743-1729-4073-a99d-8a1901245cab"
      },
      "source": [
        "df2.head()"
      ],
      "execution_count": 227,
      "outputs": [
        {
          "output_type": "execute_result",
          "data": {
            "text/html": [
              "<div>\n",
              "<style scoped>\n",
              "    .dataframe tbody tr th:only-of-type {\n",
              "        vertical-align: middle;\n",
              "    }\n",
              "\n",
              "    .dataframe tbody tr th {\n",
              "        vertical-align: top;\n",
              "    }\n",
              "\n",
              "    .dataframe thead th {\n",
              "        text-align: right;\n",
              "    }\n",
              "</style>\n",
              "<table border=\"1\" class=\"dataframe\">\n",
              "  <thead>\n",
              "    <tr style=\"text-align: right;\">\n",
              "      <th></th>\n",
              "      <th>0</th>\n",
              "    </tr>\n",
              "    <tr>\n",
              "      <th>Sales</th>\n",
              "      <th></th>\n",
              "    </tr>\n",
              "  </thead>\n",
              "  <tbody>\n",
              "    <tr>\n",
              "      <th>13275.131</th>\n",
              "      <td>2014-01</td>\n",
              "    </tr>\n",
              "    <tr>\n",
              "      <th>5406.528</th>\n",
              "      <td>2014-02</td>\n",
              "    </tr>\n",
              "    <tr>\n",
              "      <th>50708.349</th>\n",
              "      <td>2014-03</td>\n",
              "    </tr>\n",
              "    <tr>\n",
              "      <th>30388.465</th>\n",
              "      <td>2014-04</td>\n",
              "    </tr>\n",
              "    <tr>\n",
              "      <th>22478.880</th>\n",
              "      <td>2014-05</td>\n",
              "    </tr>\n",
              "  </tbody>\n",
              "</table>\n",
              "</div>"
            ],
            "text/plain": [
              "                 0\n",
              "Sales             \n",
              "13275.131  2014-01\n",
              "5406.528   2014-02\n",
              "50708.349  2014-03\n",
              "30388.465  2014-04\n",
              "22478.880  2014-05"
            ]
          },
          "metadata": {
            "tags": []
          },
          "execution_count": 227
        }
      ]
    },
    {
      "cell_type": "code",
      "metadata": {
        "id": "Mas5Syo5aNwG",
        "colab_type": "code",
        "colab": {
          "base_uri": "https://localhost:8080/",
          "height": 34
        },
        "outputId": "12d1a411-15d4-4d0a-f46c-c277e3b732cb"
      },
      "source": [
        "df2.shape"
      ],
      "execution_count": 228,
      "outputs": [
        {
          "output_type": "execute_result",
          "data": {
            "text/plain": [
              "(49, 1)"
            ]
          },
          "metadata": {
            "tags": []
          },
          "execution_count": 228
        }
      ]
    },
    {
      "cell_type": "code",
      "metadata": {
        "id": "VxvR1PZYcpgk",
        "colab_type": "code",
        "colab": {}
      },
      "source": [
        "df2=df2.dropna()"
      ],
      "execution_count": 229,
      "outputs": []
    },
    {
      "cell_type": "markdown",
      "metadata": {
        "id": "t-nr6isfgQwC",
        "colab_type": "text"
      },
      "source": [
        "##Task 7\n",
        "Finding out the most and least sold product id\n",
        "\n",
        "a.Create a new dataset including the product ids and total quantities sold\n",
        "for that id\n",
        "\n",
        "b.Find out the most sold product from the created dataset\n"
      ]
    },
    {
      "cell_type": "code",
      "metadata": {
        "id": "RT1gTM5lf1gP",
        "colab_type": "code",
        "colab": {}
      },
      "source": [
        "df4=pd.DataFrame(df['Product ID'],df['Quantity'])"
      ],
      "execution_count": 230,
      "outputs": []
    },
    {
      "cell_type": "code",
      "metadata": {
        "id": "8qjVYY5gghiK",
        "colab_type": "code",
        "colab": {
          "base_uri": "https://localhost:8080/",
          "height": 225
        },
        "outputId": "add3914d-d740-460a-8c6c-ddfdd2bdacf3"
      },
      "source": [
        "df4.head()"
      ],
      "execution_count": 231,
      "outputs": [
        {
          "output_type": "execute_result",
          "data": {
            "text/html": [
              "<div>\n",
              "<style scoped>\n",
              "    .dataframe tbody tr th:only-of-type {\n",
              "        vertical-align: middle;\n",
              "    }\n",
              "\n",
              "    .dataframe tbody tr th {\n",
              "        vertical-align: top;\n",
              "    }\n",
              "\n",
              "    .dataframe thead th {\n",
              "        text-align: right;\n",
              "    }\n",
              "</style>\n",
              "<table border=\"1\" class=\"dataframe\">\n",
              "  <thead>\n",
              "    <tr style=\"text-align: right;\">\n",
              "      <th></th>\n",
              "      <th>Product ID</th>\n",
              "    </tr>\n",
              "    <tr>\n",
              "      <th>Quantity</th>\n",
              "      <th></th>\n",
              "    </tr>\n",
              "  </thead>\n",
              "  <tbody>\n",
              "    <tr>\n",
              "      <th>2</th>\n",
              "      <td>OFF-LA-10000240</td>\n",
              "    </tr>\n",
              "    <tr>\n",
              "      <th>3</th>\n",
              "      <td>FUR-TA-10000577</td>\n",
              "    </tr>\n",
              "    <tr>\n",
              "      <th>2</th>\n",
              "      <td>OFF-LA-10000240</td>\n",
              "    </tr>\n",
              "    <tr>\n",
              "      <th>5</th>\n",
              "      <td>FUR-FU-10001487</td>\n",
              "    </tr>\n",
              "    <tr>\n",
              "      <th>2</th>\n",
              "      <td>OFF-LA-10000240</td>\n",
              "    </tr>\n",
              "  </tbody>\n",
              "</table>\n",
              "</div>"
            ],
            "text/plain": [
              "               Product ID\n",
              "Quantity                 \n",
              "2         OFF-LA-10000240\n",
              "3         FUR-TA-10000577\n",
              "2         OFF-LA-10000240\n",
              "5         FUR-FU-10001487\n",
              "2         OFF-LA-10000240"
            ]
          },
          "metadata": {
            "tags": []
          },
          "execution_count": 231
        }
      ]
    },
    {
      "cell_type": "code",
      "metadata": {
        "id": "KphyXxtSgjAj",
        "colab_type": "code",
        "colab": {
          "base_uri": "https://localhost:8080/",
          "height": 50
        },
        "outputId": "f8d307b6-c866-4f92-cc5d-6cb46d4a11ee"
      },
      "source": [
        "df4.max()"
      ],
      "execution_count": 232,
      "outputs": [
        {
          "output_type": "execute_result",
          "data": {
            "text/plain": [
              "Product ID    TEC-PH-10002275\n",
              "dtype: object"
            ]
          },
          "metadata": {
            "tags": []
          },
          "execution_count": 232
        }
      ]
    },
    {
      "cell_type": "code",
      "metadata": {
        "id": "SF0JIR4gg7rj",
        "colab_type": "code",
        "colab": {
          "base_uri": "https://localhost:8080/",
          "height": 50
        },
        "outputId": "53d43aef-f637-4c7f-d39a-1ecb0c172c2f"
      },
      "source": [
        "df4.min()"
      ],
      "execution_count": 233,
      "outputs": [
        {
          "output_type": "execute_result",
          "data": {
            "text/plain": [
              "Product ID    FUR-CH-10000454\n",
              "dtype: object"
            ]
          },
          "metadata": {
            "tags": []
          },
          "execution_count": 233
        }
      ]
    },
    {
      "cell_type": "markdown",
      "metadata": {
        "id": "Sr_zMTWAhGgL",
        "colab_type": "text"
      },
      "source": [
        "##Task 8\n",
        "Finding out the customer who bought most and least from us in\n",
        "terms of quantity\n",
        "2\n",
        "\n",
        "a.Create a dataset containing name and quantities bought\n",
        "\n",
        "b.Find out the customer name and quantity, who bought maximum in\n",
        "quantity"
      ]
    },
    {
      "cell_type": "code",
      "metadata": {
        "id": "BxpfrtBDhBM5",
        "colab_type": "code",
        "colab": {}
      },
      "source": [
        "df5=pd.DataFrame(df['Customer Name'],df['Quantity'])"
      ],
      "execution_count": 234,
      "outputs": []
    },
    {
      "cell_type": "code",
      "metadata": {
        "id": "mn0ymD4MhRuS",
        "colab_type": "code",
        "colab": {
          "base_uri": "https://localhost:8080/",
          "height": 225
        },
        "outputId": "3bbc5024-2fbf-4d53-f15c-99a754f863d2"
      },
      "source": [
        "df5.head()"
      ],
      "execution_count": 235,
      "outputs": [
        {
          "output_type": "execute_result",
          "data": {
            "text/html": [
              "<div>\n",
              "<style scoped>\n",
              "    .dataframe tbody tr th:only-of-type {\n",
              "        vertical-align: middle;\n",
              "    }\n",
              "\n",
              "    .dataframe tbody tr th {\n",
              "        vertical-align: top;\n",
              "    }\n",
              "\n",
              "    .dataframe thead th {\n",
              "        text-align: right;\n",
              "    }\n",
              "</style>\n",
              "<table border=\"1\" class=\"dataframe\">\n",
              "  <thead>\n",
              "    <tr style=\"text-align: right;\">\n",
              "      <th></th>\n",
              "      <th>Customer Name</th>\n",
              "    </tr>\n",
              "    <tr>\n",
              "      <th>Quantity</th>\n",
              "      <th></th>\n",
              "    </tr>\n",
              "  </thead>\n",
              "  <tbody>\n",
              "    <tr>\n",
              "      <th>2</th>\n",
              "      <td>Darrin Van Huff</td>\n",
              "    </tr>\n",
              "    <tr>\n",
              "      <th>3</th>\n",
              "      <td>Sean O'Donnell</td>\n",
              "    </tr>\n",
              "    <tr>\n",
              "      <th>2</th>\n",
              "      <td>Darrin Van Huff</td>\n",
              "    </tr>\n",
              "    <tr>\n",
              "      <th>5</th>\n",
              "      <td>Brosina Hoffman</td>\n",
              "    </tr>\n",
              "    <tr>\n",
              "      <th>2</th>\n",
              "      <td>Darrin Van Huff</td>\n",
              "    </tr>\n",
              "  </tbody>\n",
              "</table>\n",
              "</div>"
            ],
            "text/plain": [
              "            Customer Name\n",
              "Quantity                 \n",
              "2         Darrin Van Huff\n",
              "3          Sean O'Donnell\n",
              "2         Darrin Van Huff\n",
              "5         Brosina Hoffman\n",
              "2         Darrin Van Huff"
            ]
          },
          "metadata": {
            "tags": []
          },
          "execution_count": 235
        }
      ]
    },
    {
      "cell_type": "code",
      "metadata": {
        "id": "agkDyMfThTPk",
        "colab_type": "code",
        "colab": {
          "base_uri": "https://localhost:8080/",
          "height": 50
        },
        "outputId": "9c289e3c-5e6b-40ef-d798-c1eb7d358a28"
      },
      "source": [
        "df5.max()"
      ],
      "execution_count": 236,
      "outputs": [
        {
          "output_type": "execute_result",
          "data": {
            "text/plain": [
              "Customer Name    Sean O'Donnell\n",
              "dtype: object"
            ]
          },
          "metadata": {
            "tags": []
          },
          "execution_count": 236
        }
      ]
    },
    {
      "cell_type": "code",
      "metadata": {
        "id": "lp-BrfQJhW30",
        "colab_type": "code",
        "colab": {
          "base_uri": "https://localhost:8080/",
          "height": 50
        },
        "outputId": "b69bd75d-7f01-443d-be73-93ed0d3690bf"
      },
      "source": [
        "df5.min()"
      ],
      "execution_count": 237,
      "outputs": [
        {
          "output_type": "execute_result",
          "data": {
            "text/plain": [
              "Customer Name    Andrew Allen\n",
              "dtype: object"
            ]
          },
          "metadata": {
            "tags": []
          },
          "execution_count": 237
        }
      ]
    },
    {
      "cell_type": "markdown",
      "metadata": {
        "id": "9MPGjrh2iuoa",
        "colab_type": "text"
      },
      "source": [
        "##Task 9\n",
        "Finding out the customer who bought most and least from us in\n",
        "terms of value\n",
        "\n",
        "a.Create a dataset containing name and sales generated by him\n",
        "\n",
        "b.Find out the customer name and sales, who bought maximum in value"
      ]
    },
    {
      "cell_type": "code",
      "metadata": {
        "id": "NS2pk37Li_x7",
        "colab_type": "code",
        "colab": {}
      },
      "source": [
        "df6=pd.DataFrame([df['Customer Name'],df['Sales']])"
      ],
      "execution_count": 238,
      "outputs": []
    },
    {
      "cell_type": "code",
      "metadata": {
        "id": "roQMsP9T_2Zu",
        "colab_type": "code",
        "colab": {
          "base_uri": "https://localhost:8080/",
          "height": 189
        },
        "outputId": "700c51c3-66bc-48e6-b2da-eb1bbea3031b"
      },
      "source": [
        "df6.head()"
      ],
      "execution_count": 239,
      "outputs": [
        {
          "output_type": "execute_result",
          "data": {
            "text/html": [
              "<div>\n",
              "<style scoped>\n",
              "    .dataframe tbody tr th:only-of-type {\n",
              "        vertical-align: middle;\n",
              "    }\n",
              "\n",
              "    .dataframe tbody tr th {\n",
              "        vertical-align: top;\n",
              "    }\n",
              "\n",
              "    .dataframe thead th {\n",
              "        text-align: right;\n",
              "    }\n",
              "</style>\n",
              "<table border=\"1\" class=\"dataframe\">\n",
              "  <thead>\n",
              "    <tr style=\"text-align: right;\">\n",
              "      <th></th>\n",
              "      <th>0</th>\n",
              "      <th>1</th>\n",
              "      <th>2</th>\n",
              "      <th>3</th>\n",
              "      <th>4</th>\n",
              "      <th>5</th>\n",
              "      <th>6</th>\n",
              "      <th>7</th>\n",
              "      <th>8</th>\n",
              "      <th>9</th>\n",
              "      <th>10</th>\n",
              "      <th>11</th>\n",
              "      <th>12</th>\n",
              "      <th>13</th>\n",
              "      <th>14</th>\n",
              "      <th>15</th>\n",
              "      <th>16</th>\n",
              "      <th>17</th>\n",
              "      <th>18</th>\n",
              "      <th>19</th>\n",
              "      <th>20</th>\n",
              "      <th>21</th>\n",
              "      <th>22</th>\n",
              "      <th>23</th>\n",
              "      <th>24</th>\n",
              "      <th>25</th>\n",
              "      <th>26</th>\n",
              "      <th>27</th>\n",
              "      <th>28</th>\n",
              "      <th>29</th>\n",
              "      <th>30</th>\n",
              "      <th>31</th>\n",
              "      <th>32</th>\n",
              "      <th>33</th>\n",
              "      <th>34</th>\n",
              "      <th>35</th>\n",
              "      <th>36</th>\n",
              "      <th>37</th>\n",
              "      <th>38</th>\n",
              "      <th>39</th>\n",
              "      <th>...</th>\n",
              "      <th>9954</th>\n",
              "      <th>9955</th>\n",
              "      <th>9956</th>\n",
              "      <th>9957</th>\n",
              "      <th>9958</th>\n",
              "      <th>9959</th>\n",
              "      <th>9960</th>\n",
              "      <th>9961</th>\n",
              "      <th>9962</th>\n",
              "      <th>9963</th>\n",
              "      <th>9964</th>\n",
              "      <th>9965</th>\n",
              "      <th>9966</th>\n",
              "      <th>9967</th>\n",
              "      <th>9968</th>\n",
              "      <th>9969</th>\n",
              "      <th>9970</th>\n",
              "      <th>9971</th>\n",
              "      <th>9972</th>\n",
              "      <th>9973</th>\n",
              "      <th>9974</th>\n",
              "      <th>9975</th>\n",
              "      <th>9976</th>\n",
              "      <th>9977</th>\n",
              "      <th>9978</th>\n",
              "      <th>9979</th>\n",
              "      <th>9980</th>\n",
              "      <th>9981</th>\n",
              "      <th>9982</th>\n",
              "      <th>9983</th>\n",
              "      <th>9984</th>\n",
              "      <th>9985</th>\n",
              "      <th>9986</th>\n",
              "      <th>9987</th>\n",
              "      <th>9988</th>\n",
              "      <th>9989</th>\n",
              "      <th>9990</th>\n",
              "      <th>9991</th>\n",
              "      <th>9992</th>\n",
              "      <th>9993</th>\n",
              "    </tr>\n",
              "  </thead>\n",
              "  <tbody>\n",
              "    <tr>\n",
              "      <th>Customer Name</th>\n",
              "      <td>Claire Gute</td>\n",
              "      <td>Claire Gute</td>\n",
              "      <td>Darrin Van Huff</td>\n",
              "      <td>Sean O'Donnell</td>\n",
              "      <td>Sean O'Donnell</td>\n",
              "      <td>Brosina Hoffman</td>\n",
              "      <td>Brosina Hoffman</td>\n",
              "      <td>Brosina Hoffman</td>\n",
              "      <td>Brosina Hoffman</td>\n",
              "      <td>Brosina Hoffman</td>\n",
              "      <td>Brosina Hoffman</td>\n",
              "      <td>Brosina Hoffman</td>\n",
              "      <td>Andrew Allen</td>\n",
              "      <td>Irene Maddox</td>\n",
              "      <td>Harold Pawlan</td>\n",
              "      <td>Harold Pawlan</td>\n",
              "      <td>Pete Kriz</td>\n",
              "      <td>Alejandro Grove</td>\n",
              "      <td>Zuschuss Donatelli</td>\n",
              "      <td>Zuschuss Donatelli</td>\n",
              "      <td>Zuschuss Donatelli</td>\n",
              "      <td>Ken Black</td>\n",
              "      <td>Ken Black</td>\n",
              "      <td>Sandra Flanagan</td>\n",
              "      <td>Emily Burns</td>\n",
              "      <td>Eric Hoffmann</td>\n",
              "      <td>Eric Hoffmann</td>\n",
              "      <td>Tracy Blumstein</td>\n",
              "      <td>Tracy Blumstein</td>\n",
              "      <td>Tracy Blumstein</td>\n",
              "      <td>Tracy Blumstein</td>\n",
              "      <td>Tracy Blumstein</td>\n",
              "      <td>Tracy Blumstein</td>\n",
              "      <td>Tracy Blumstein</td>\n",
              "      <td>Matt Abelman</td>\n",
              "      <td>Gene Hale</td>\n",
              "      <td>Gene Hale</td>\n",
              "      <td>Steve Nguyen</td>\n",
              "      <td>Steve Nguyen</td>\n",
              "      <td>Steve Nguyen</td>\n",
              "      <td>...</td>\n",
              "      <td>Darren Budd</td>\n",
              "      <td>Darren Budd</td>\n",
              "      <td>Kristina Nunn</td>\n",
              "      <td>Kristina Nunn</td>\n",
              "      <td>Kristina Nunn</td>\n",
              "      <td>Ashley Jarboe</td>\n",
              "      <td>Craig Leslie</td>\n",
              "      <td>Corinna Mitchell</td>\n",
              "      <td>Corinna Mitchell</td>\n",
              "      <td>Alan Shonely</td>\n",
              "      <td>Harold Engle</td>\n",
              "      <td>Harold Engle</td>\n",
              "      <td>Harold Engle</td>\n",
              "      <td>Richard Bierner</td>\n",
              "      <td>Richard Bierner</td>\n",
              "      <td>Richard Bierner</td>\n",
              "      <td>Mark Packer</td>\n",
              "      <td>Mark Packer</td>\n",
              "      <td>Ryan Crowe</td>\n",
              "      <td>Anne Pryor</td>\n",
              "      <td>Anne Pryor</td>\n",
              "      <td>Anne Pryor</td>\n",
              "      <td>Anne Pryor</td>\n",
              "      <td>Anne Pryor</td>\n",
              "      <td>Anne Pryor</td>\n",
              "      <td>Anne Pryor</td>\n",
              "      <td>Shaun Weien</td>\n",
              "      <td>Ted Butterfield</td>\n",
              "      <td>Ryan Crowe</td>\n",
              "      <td>Ryan Crowe</td>\n",
              "      <td>Dianna Vittorini</td>\n",
              "      <td>Dianna Vittorini</td>\n",
              "      <td>Maris LaWare</td>\n",
              "      <td>Ruben Ausman</td>\n",
              "      <td>Ruben Ausman</td>\n",
              "      <td>Tom Boeckenhauer</td>\n",
              "      <td>Dave Brooks</td>\n",
              "      <td>Dave Brooks</td>\n",
              "      <td>Dave Brooks</td>\n",
              "      <td>Chris Cortes</td>\n",
              "    </tr>\n",
              "    <tr>\n",
              "      <th>Sales</th>\n",
              "      <td>261.96</td>\n",
              "      <td>731.94</td>\n",
              "      <td>14.62</td>\n",
              "      <td>957.577</td>\n",
              "      <td>22.368</td>\n",
              "      <td>48.86</td>\n",
              "      <td>7.28</td>\n",
              "      <td>907.152</td>\n",
              "      <td>18.504</td>\n",
              "      <td>114.9</td>\n",
              "      <td>1706.18</td>\n",
              "      <td>911.424</td>\n",
              "      <td>15.552</td>\n",
              "      <td>407.976</td>\n",
              "      <td>68.81</td>\n",
              "      <td>2.544</td>\n",
              "      <td>665.88</td>\n",
              "      <td>55.5</td>\n",
              "      <td>8.56</td>\n",
              "      <td>213.48</td>\n",
              "      <td>22.72</td>\n",
              "      <td>19.46</td>\n",
              "      <td>60.34</td>\n",
              "      <td>71.372</td>\n",
              "      <td>1044.63</td>\n",
              "      <td>11.648</td>\n",
              "      <td>90.57</td>\n",
              "      <td>3083.43</td>\n",
              "      <td>9.618</td>\n",
              "      <td>124.2</td>\n",
              "      <td>3.264</td>\n",
              "      <td>86.304</td>\n",
              "      <td>6.858</td>\n",
              "      <td>15.76</td>\n",
              "      <td>29.472</td>\n",
              "      <td>1097.54</td>\n",
              "      <td>190.92</td>\n",
              "      <td>113.328</td>\n",
              "      <td>532.399</td>\n",
              "      <td>212.058</td>\n",
              "      <td>...</td>\n",
              "      <td>34.248</td>\n",
              "      <td>273.568</td>\n",
              "      <td>46.35</td>\n",
              "      <td>223.92</td>\n",
              "      <td>7.3</td>\n",
              "      <td>9.344</td>\n",
              "      <td>18</td>\n",
              "      <td>65.584</td>\n",
              "      <td>383.466</td>\n",
              "      <td>10.368</td>\n",
              "      <td>13.4</td>\n",
              "      <td>4.98</td>\n",
              "      <td>109.69</td>\n",
              "      <td>40.2</td>\n",
              "      <td>735.98</td>\n",
              "      <td>22.75</td>\n",
              "      <td>119.56</td>\n",
              "      <td>140.75</td>\n",
              "      <td>99.568</td>\n",
              "      <td>271.96</td>\n",
              "      <td>18.69</td>\n",
              "      <td>13.36</td>\n",
              "      <td>249.584</td>\n",
              "      <td>13.86</td>\n",
              "      <td>13.376</td>\n",
              "      <td>437.472</td>\n",
              "      <td>85.98</td>\n",
              "      <td>16.52</td>\n",
              "      <td>35.56</td>\n",
              "      <td>97.98</td>\n",
              "      <td>31.5</td>\n",
              "      <td>55.6</td>\n",
              "      <td>36.24</td>\n",
              "      <td>79.99</td>\n",
              "      <td>206.1</td>\n",
              "      <td>25.248</td>\n",
              "      <td>91.96</td>\n",
              "      <td>258.576</td>\n",
              "      <td>29.6</td>\n",
              "      <td>243.16</td>\n",
              "    </tr>\n",
              "  </tbody>\n",
              "</table>\n",
              "<p>2 rows × 9994 columns</p>\n",
              "</div>"
            ],
            "text/plain": [
              "                      0            1     ...         9992          9993\n",
              "Customer Name  Claire Gute  Claire Gute  ...  Dave Brooks  Chris Cortes\n",
              "Sales               261.96       731.94  ...         29.6        243.16\n",
              "\n",
              "[2 rows x 9994 columns]"
            ]
          },
          "metadata": {
            "tags": []
          },
          "execution_count": 239
        }
      ]
    },
    {
      "cell_type": "code",
      "metadata": {
        "id": "XXNH4DCV_3i2",
        "colab_type": "code",
        "colab": {
          "base_uri": "https://localhost:8080/",
          "height": 67
        },
        "outputId": "e0782c02-23b9-4c2b-8031-b40445e1e12e"
      },
      "source": [
        "df6.max(axis=1)"
      ],
      "execution_count": 240,
      "outputs": [
        {
          "output_type": "execute_result",
          "data": {
            "text/plain": [
              "Customer Name    Zuschuss Donatelli\n",
              "Sales                       22638.5\n",
              "dtype: object"
            ]
          },
          "metadata": {
            "tags": []
          },
          "execution_count": 240
        }
      ]
    },
    {
      "cell_type": "code",
      "metadata": {
        "id": "czSseZe8AOFN",
        "colab_type": "code",
        "colab": {
          "base_uri": "https://localhost:8080/",
          "height": 67
        },
        "outputId": "77d1544d-dfc8-4f9d-9141-dce7639379d2"
      },
      "source": [
        "df6.min(axis=1)"
      ],
      "execution_count": 241,
      "outputs": [
        {
          "output_type": "execute_result",
          "data": {
            "text/plain": [
              "Customer Name    Aaron Bergman\n",
              "Sales                    0.444\n",
              "dtype: object"
            ]
          },
          "metadata": {
            "tags": []
          },
          "execution_count": 241
        }
      ]
    },
    {
      "cell_type": "markdown",
      "metadata": {
        "id": "aTIYC4hFBgaI",
        "colab_type": "text"
      },
      "source": [
        "##Task 10\n",
        "Finding out the majority and minority customer cities on basis of\n",
        "\n",
        "a. Number of customers\n",
        "\n",
        "b. Sales value\n",
        "\n",
        "c. Number of quantity sold"
      ]
    },
    {
      "cell_type": "code",
      "metadata": {
        "id": "aZGajs5jAPsQ",
        "colab_type": "code",
        "colab": {}
      },
      "source": [
        "pop=df.groupby(df['City']).count()"
      ],
      "execution_count": 242,
      "outputs": []
    },
    {
      "cell_type": "code",
      "metadata": {
        "id": "vLvkCIEECt4F",
        "colab_type": "code",
        "colab": {}
      },
      "source": [
        "df7=pd.DataFrame(df.loc[:,['City','Quantity','Sales','Customer ID']])"
      ],
      "execution_count": 243,
      "outputs": []
    },
    {
      "cell_type": "code",
      "metadata": {
        "id": "TtC_LpPlCFy4",
        "colab_type": "code",
        "colab": {
          "base_uri": "https://localhost:8080/",
          "height": 195
        },
        "outputId": "8ea8a5d0-47a1-4cbf-e45a-32d60cfb0b51"
      },
      "source": [
        "df7.head()"
      ],
      "execution_count": 244,
      "outputs": [
        {
          "output_type": "execute_result",
          "data": {
            "text/html": [
              "<div>\n",
              "<style scoped>\n",
              "    .dataframe tbody tr th:only-of-type {\n",
              "        vertical-align: middle;\n",
              "    }\n",
              "\n",
              "    .dataframe tbody tr th {\n",
              "        vertical-align: top;\n",
              "    }\n",
              "\n",
              "    .dataframe thead th {\n",
              "        text-align: right;\n",
              "    }\n",
              "</style>\n",
              "<table border=\"1\" class=\"dataframe\">\n",
              "  <thead>\n",
              "    <tr style=\"text-align: right;\">\n",
              "      <th></th>\n",
              "      <th>City</th>\n",
              "      <th>Quantity</th>\n",
              "      <th>Sales</th>\n",
              "      <th>Customer ID</th>\n",
              "    </tr>\n",
              "  </thead>\n",
              "  <tbody>\n",
              "    <tr>\n",
              "      <th>0</th>\n",
              "      <td>Henderson</td>\n",
              "      <td>2</td>\n",
              "      <td>261.9600</td>\n",
              "      <td>CG-12520</td>\n",
              "    </tr>\n",
              "    <tr>\n",
              "      <th>1</th>\n",
              "      <td>Henderson</td>\n",
              "      <td>3</td>\n",
              "      <td>731.9400</td>\n",
              "      <td>CG-12520</td>\n",
              "    </tr>\n",
              "    <tr>\n",
              "      <th>2</th>\n",
              "      <td>Los Angeles</td>\n",
              "      <td>2</td>\n",
              "      <td>14.6200</td>\n",
              "      <td>DV-13045</td>\n",
              "    </tr>\n",
              "    <tr>\n",
              "      <th>3</th>\n",
              "      <td>Fort Lauderdale</td>\n",
              "      <td>5</td>\n",
              "      <td>957.5775</td>\n",
              "      <td>SO-20335</td>\n",
              "    </tr>\n",
              "    <tr>\n",
              "      <th>4</th>\n",
              "      <td>Fort Lauderdale</td>\n",
              "      <td>2</td>\n",
              "      <td>22.3680</td>\n",
              "      <td>SO-20335</td>\n",
              "    </tr>\n",
              "  </tbody>\n",
              "</table>\n",
              "</div>"
            ],
            "text/plain": [
              "              City  Quantity     Sales Customer ID\n",
              "0        Henderson         2  261.9600    CG-12520\n",
              "1        Henderson         3  731.9400    CG-12520\n",
              "2      Los Angeles         2   14.6200    DV-13045\n",
              "3  Fort Lauderdale         5  957.5775    SO-20335\n",
              "4  Fort Lauderdale         2   22.3680    SO-20335"
            ]
          },
          "metadata": {
            "tags": []
          },
          "execution_count": 244
        }
      ]
    },
    {
      "cell_type": "code",
      "metadata": {
        "colab_type": "code",
        "id": "uD8s4DmFHSMg",
        "colab": {}
      },
      "source": [
        "b=df.groupby('City').sum()\n",
        "ct=[c for c,df7 in df7.groupby('City')]\n",
        "d=df7.groupby(df7['City']).count()"
      ],
      "execution_count": 245,
      "outputs": []
    },
    {
      "cell_type": "code",
      "metadata": {
        "id": "qriVD_2XIAQT",
        "colab_type": "code",
        "colab": {
          "base_uri": "https://localhost:8080/",
          "height": 431
        },
        "outputId": "11474bdf-19be-4d72-dee7-d17e1da76346"
      },
      "source": [
        "d"
      ],
      "execution_count": 246,
      "outputs": [
        {
          "output_type": "execute_result",
          "data": {
            "text/html": [
              "<div>\n",
              "<style scoped>\n",
              "    .dataframe tbody tr th:only-of-type {\n",
              "        vertical-align: middle;\n",
              "    }\n",
              "\n",
              "    .dataframe tbody tr th {\n",
              "        vertical-align: top;\n",
              "    }\n",
              "\n",
              "    .dataframe thead th {\n",
              "        text-align: right;\n",
              "    }\n",
              "</style>\n",
              "<table border=\"1\" class=\"dataframe\">\n",
              "  <thead>\n",
              "    <tr style=\"text-align: right;\">\n",
              "      <th></th>\n",
              "      <th>Quantity</th>\n",
              "      <th>Sales</th>\n",
              "      <th>Customer ID</th>\n",
              "    </tr>\n",
              "    <tr>\n",
              "      <th>City</th>\n",
              "      <th></th>\n",
              "      <th></th>\n",
              "      <th></th>\n",
              "    </tr>\n",
              "  </thead>\n",
              "  <tbody>\n",
              "    <tr>\n",
              "      <th>Aberdeen</th>\n",
              "      <td>1</td>\n",
              "      <td>1</td>\n",
              "      <td>1</td>\n",
              "    </tr>\n",
              "    <tr>\n",
              "      <th>Abilene</th>\n",
              "      <td>1</td>\n",
              "      <td>1</td>\n",
              "      <td>1</td>\n",
              "    </tr>\n",
              "    <tr>\n",
              "      <th>Akron</th>\n",
              "      <td>21</td>\n",
              "      <td>21</td>\n",
              "      <td>21</td>\n",
              "    </tr>\n",
              "    <tr>\n",
              "      <th>Albuquerque</th>\n",
              "      <td>14</td>\n",
              "      <td>14</td>\n",
              "      <td>14</td>\n",
              "    </tr>\n",
              "    <tr>\n",
              "      <th>Alexandria</th>\n",
              "      <td>16</td>\n",
              "      <td>16</td>\n",
              "      <td>16</td>\n",
              "    </tr>\n",
              "    <tr>\n",
              "      <th>...</th>\n",
              "      <td>...</td>\n",
              "      <td>...</td>\n",
              "      <td>...</td>\n",
              "    </tr>\n",
              "    <tr>\n",
              "      <th>Woonsocket</th>\n",
              "      <td>4</td>\n",
              "      <td>4</td>\n",
              "      <td>4</td>\n",
              "    </tr>\n",
              "    <tr>\n",
              "      <th>Yonkers</th>\n",
              "      <td>15</td>\n",
              "      <td>15</td>\n",
              "      <td>15</td>\n",
              "    </tr>\n",
              "    <tr>\n",
              "      <th>York</th>\n",
              "      <td>5</td>\n",
              "      <td>5</td>\n",
              "      <td>5</td>\n",
              "    </tr>\n",
              "    <tr>\n",
              "      <th>Yucaipa</th>\n",
              "      <td>1</td>\n",
              "      <td>1</td>\n",
              "      <td>1</td>\n",
              "    </tr>\n",
              "    <tr>\n",
              "      <th>Yuma</th>\n",
              "      <td>4</td>\n",
              "      <td>4</td>\n",
              "      <td>4</td>\n",
              "    </tr>\n",
              "  </tbody>\n",
              "</table>\n",
              "<p>531 rows × 3 columns</p>\n",
              "</div>"
            ],
            "text/plain": [
              "             Quantity  Sales  Customer ID\n",
              "City                                     \n",
              "Aberdeen            1      1            1\n",
              "Abilene             1      1            1\n",
              "Akron              21     21           21\n",
              "Albuquerque        14     14           14\n",
              "Alexandria         16     16           16\n",
              "...               ...    ...          ...\n",
              "Woonsocket          4      4            4\n",
              "Yonkers            15     15           15\n",
              "York                5      5            5\n",
              "Yucaipa             1      1            1\n",
              "Yuma                4      4            4\n",
              "\n",
              "[531 rows x 3 columns]"
            ]
          },
          "metadata": {
            "tags": []
          },
          "execution_count": 246
        }
      ]
    },
    {
      "cell_type": "markdown",
      "metadata": {
        "id": "H6PuQISLYtam",
        "colab_type": "text"
      },
      "source": [
        "MAXIMUM SALES"
      ]
    },
    {
      "cell_type": "code",
      "metadata": {
        "id": "4z5bNbX0CG7X",
        "colab_type": "code",
        "colab": {
          "base_uri": "https://localhost:8080/",
          "height": 50
        },
        "outputId": "16fb041e-bf58-4cd6-e7e5-eb967e9ef47a"
      },
      "source": [
        "print(df7['Sales'].max())\n",
        "print(df7['Sales'].min())"
      ],
      "execution_count": 247,
      "outputs": [
        {
          "output_type": "stream",
          "text": [
            "22638.48\n",
            "0.44399999999999995\n"
          ],
          "name": "stdout"
        }
      ]
    },
    {
      "cell_type": "code",
      "metadata": {
        "id": "p4Q3m6owQnG9",
        "colab_type": "code",
        "colab": {
          "base_uri": "https://localhost:8080/",
          "height": 50
        },
        "outputId": "88b48a20-6b9c-43ab-f026-ed0ef5de0a19"
      },
      "source": [
        "print(df7[df7.Sales == df.Sales.max()])"
      ],
      "execution_count": 248,
      "outputs": [
        {
          "output_type": "stream",
          "text": [
            "              City  Quantity     Sales Customer ID\n",
            "2697  Jacksonville         6  22638.48    SM-20320\n"
          ],
          "name": "stdout"
        }
      ]
    },
    {
      "cell_type": "code",
      "metadata": {
        "id": "vP0oTX_dQtWQ",
        "colab_type": "code",
        "colab": {
          "base_uri": "https://localhost:8080/",
          "height": 50
        },
        "outputId": "65c79a99-069d-41cd-aba9-6b10bd8c8730"
      },
      "source": [
        "print(df7[df7.Sales == df.Sales.min()])"
      ],
      "execution_count": 249,
      "outputs": [
        {
          "output_type": "stream",
          "text": [
            "         City  Quantity  Sales Customer ID\n",
            "4101  Houston         1  0.444    ZC-21910\n"
          ],
          "name": "stdout"
        }
      ]
    },
    {
      "cell_type": "markdown",
      "metadata": {
        "id": "zb0Rkt6sQmBS",
        "colab_type": "text"
      },
      "source": [
        "Hence maximum sales of 22638.48 USD was in Jacksonville and minimum sales of 0.444 USD was in Houston"
      ]
    },
    {
      "cell_type": "code",
      "metadata": {
        "id": "pL6jNiF5NOPK",
        "colab_type": "code",
        "colab": {
          "base_uri": "https://localhost:8080/",
          "height": 50
        },
        "outputId": "3bc76a18-f92c-471f-9b3f-5129fc0d08f1"
      },
      "source": [
        "print(df7['Customer ID'].max())\n",
        "print(df7['Customer ID'].min())"
      ],
      "execution_count": 250,
      "outputs": [
        {
          "output_type": "stream",
          "text": [
            "ZD-21925\n",
            "AA-10315\n"
          ],
          "name": "stdout"
        }
      ]
    },
    {
      "cell_type": "code",
      "metadata": {
        "id": "hFjq_P5EISFV",
        "colab_type": "code",
        "colab": {
          "base_uri": "https://localhost:8080/",
          "height": 50
        },
        "outputId": "3b901cb9-23f6-4625-cdd1-8bedea247faa"
      },
      "source": [
        "print(df7['Quantity'].max())\n",
        "print(df7['Quantity'].min())"
      ],
      "execution_count": 251,
      "outputs": [
        {
          "output_type": "stream",
          "text": [
            "14\n",
            "1\n"
          ],
          "name": "stdout"
        }
      ]
    },
    {
      "cell_type": "code",
      "metadata": {
        "id": "h26Y2a5aNRsG",
        "colab_type": "code",
        "colab": {
          "base_uri": "https://localhost:8080/",
          "height": 521
        },
        "outputId": "d0b9ce8a-dfd3-44ba-c291-2f53bcb48754"
      },
      "source": [
        "print(df7[df7.Quantity == df.Quantity.max()])"
      ],
      "execution_count": 252,
      "outputs": [
        {
          "output_type": "stream",
          "text": [
            "               City  Quantity     Sales Customer ID\n",
            "113        Columbus        14    40.096    RC-19960\n",
            "139       Roseville        14    43.120    LC-16885\n",
            "575      Long Beach        14   160.720    TG-21640\n",
            "660       Arlington        14   724.080    CB-12025\n",
            "1045       Rockford        14   254.604    SN-20710\n",
            "1363         Tucson        14    38.388    AB-10600\n",
            "1429        Salinas        14   427.420    DK-12835\n",
            "1433       Florence        14  1819.860    IM-15070\n",
            "1711  San Francisco        14  1702.120    JK-15205\n",
            "2793  Redondo Beach        14  1075.088    KN-16450\n",
            "2947      San Diego        14    64.960    MP-18175\n",
            "3441  New York City        14   108.920    KA-16525\n",
            "3902    Los Angeles        14   270.340    CS-12400\n",
            "5385   Philadelphia        14   545.916    CC-12220\n",
            "5646     Alexandria        14   192.220    AG-10495\n",
            "5668        Seattle        14    53.984    SE-20110\n",
            "6131  New York City        14   767.214    TB-21190\n",
            "6488   Jacksonville        14   295.456    JW-16075\n",
            "6499     Louisville        14   279.860    SS-20515\n",
            "6628  New York City        14   279.860    GW-14605\n",
            "7387          Omaha        14  1336.440    AG-10270\n",
            "8074     Huntsville        14    13.748    JM-15250\n",
            "8521       Columbus        14    54.992    MP-17470\n",
            "8935   Philadelphia        14  1119.888    BP-11185\n",
            "9168        Jackson        14   319.760    SJ-20125\n",
            "9515        Chicago        14    54.208    DL-13315\n",
            "9532  New York City        14   427.644    BW-11200\n",
            "9941  San Francisco        14   223.580    JL-15835\n",
            "9979    Los Angeles        14   437.472    AP-10720\n"
          ],
          "name": "stdout"
        }
      ]
    },
    {
      "cell_type": "code",
      "metadata": {
        "id": "9go96Ub1QeOm",
        "colab_type": "code",
        "colab": {
          "base_uri": "https://localhost:8080/",
          "height": 252
        },
        "outputId": "be487d19-a32e-4195-8c24-e5fdf829b21a"
      },
      "source": [
        "print(df7[df7.Quantity == df.Quantity.min()]) "
      ],
      "execution_count": 253,
      "outputs": [
        {
          "output_type": "stream",
          "text": [
            "               City  Quantity    Sales Customer ID\n",
            "52       New Albany         1   89.990    DP-13000\n",
            "61             Troy         1    1.680    TB-21055\n",
            "70    New York City         1    4.616    HM-14980\n",
            "74          Memphis         1   72.784    JE-15745\n",
            "79          Decatur         1  208.160    SC-20770\n",
            "...             ...       ...      ...         ...\n",
            "9964         Newark         1   13.400    HE-14800\n",
            "9965         Newark         1    4.980    HE-14800\n",
            "9980      Lafayette         1   85.980    SW-20455\n",
            "9986    Los Angeles         1   36.240    ML-17410\n",
            "9987         Athens         1   79.990    RA-19885\n",
            "\n",
            "[899 rows x 4 columns]\n"
          ],
          "name": "stdout"
        }
      ]
    },
    {
      "cell_type": "markdown",
      "metadata": {
        "id": "rkPLMSuqQ79W",
        "colab_type": "text"
      },
      "source": [
        "##Task11\n",
        "Find out the most and least sold product category from the store\n",
        "\n",
        "a.Value based\n",
        "\n",
        "b.Quantity based"
      ]
    },
    {
      "cell_type": "code",
      "metadata": {
        "id": "LhyaB0KgORlq",
        "colab_type": "code",
        "colab": {
          "base_uri": "https://localhost:8080/",
          "height": 50
        },
        "outputId": "89dd8d33-9812-451d-f589-8d237d211929"
      },
      "source": [
        "print(df['Profit'].max())\n",
        "print(df['Profit'].min())"
      ],
      "execution_count": 254,
      "outputs": [
        {
          "output_type": "stream",
          "text": [
            "8399.975999999999\n",
            "-6599.978000000001\n"
          ],
          "name": "stdout"
        }
      ]
    },
    {
      "cell_type": "code",
      "metadata": {
        "id": "oH73bo1cOzUL",
        "colab_type": "code",
        "colab": {
          "base_uri": "https://localhost:8080/",
          "height": 151
        },
        "outputId": "d9af43db-3a80-448f-e219-63f9fa076aa7"
      },
      "source": [
        "print(df[df.Profit == df.Profit.max()]) \n",
        "print(df[df.Profit == df.Profit.min()]) "
      ],
      "execution_count": 255,
      "outputs": [
        {
          "output_type": "stream",
          "text": [
            "      Row ID        Order ID Order Date  ... Price_per_unit yr month  year\n",
            "6826    6827  CA-2016-118689 2016-10-02  ...        3499.99  2016-10  2016\n",
            "\n",
            "[1 rows x 24 columns]\n",
            "      Row ID        Order ID Order Date  ... Price_per_unit yr month  year\n",
            "7772    7773  CA-2016-108196 2016-11-25  ...        899.997  2016-12  2016\n",
            "\n",
            "[1 rows x 24 columns]\n"
          ],
          "name": "stdout"
        }
      ]
    },
    {
      "cell_type": "code",
      "metadata": {
        "colab_type": "code",
        "id": "dMG_TBNpRI3a",
        "colab": {
          "base_uri": "https://localhost:8080/",
          "height": 50
        },
        "outputId": "a6f02d91-38c3-4321-cb21-5d20f1610ec6"
      },
      "source": [
        "print(df7['Quantity'].max())\n",
        "print(df7['Quantity'].min())"
      ],
      "execution_count": 256,
      "outputs": [
        {
          "output_type": "stream",
          "text": [
            "14\n",
            "1\n"
          ],
          "name": "stdout"
        }
      ]
    },
    {
      "cell_type": "code",
      "metadata": {
        "colab_type": "code",
        "id": "RvM40Dc7RI3k",
        "colab": {
          "base_uri": "https://localhost:8080/",
          "height": 521
        },
        "outputId": "b53e5358-dcb8-4c0b-8773-4dbcf313ff35"
      },
      "source": [
        "print(df7[df7.Quantity == df.Quantity.max()])"
      ],
      "execution_count": 257,
      "outputs": [
        {
          "output_type": "stream",
          "text": [
            "               City  Quantity     Sales Customer ID\n",
            "113        Columbus        14    40.096    RC-19960\n",
            "139       Roseville        14    43.120    LC-16885\n",
            "575      Long Beach        14   160.720    TG-21640\n",
            "660       Arlington        14   724.080    CB-12025\n",
            "1045       Rockford        14   254.604    SN-20710\n",
            "1363         Tucson        14    38.388    AB-10600\n",
            "1429        Salinas        14   427.420    DK-12835\n",
            "1433       Florence        14  1819.860    IM-15070\n",
            "1711  San Francisco        14  1702.120    JK-15205\n",
            "2793  Redondo Beach        14  1075.088    KN-16450\n",
            "2947      San Diego        14    64.960    MP-18175\n",
            "3441  New York City        14   108.920    KA-16525\n",
            "3902    Los Angeles        14   270.340    CS-12400\n",
            "5385   Philadelphia        14   545.916    CC-12220\n",
            "5646     Alexandria        14   192.220    AG-10495\n",
            "5668        Seattle        14    53.984    SE-20110\n",
            "6131  New York City        14   767.214    TB-21190\n",
            "6488   Jacksonville        14   295.456    JW-16075\n",
            "6499     Louisville        14   279.860    SS-20515\n",
            "6628  New York City        14   279.860    GW-14605\n",
            "7387          Omaha        14  1336.440    AG-10270\n",
            "8074     Huntsville        14    13.748    JM-15250\n",
            "8521       Columbus        14    54.992    MP-17470\n",
            "8935   Philadelphia        14  1119.888    BP-11185\n",
            "9168        Jackson        14   319.760    SJ-20125\n",
            "9515        Chicago        14    54.208    DL-13315\n",
            "9532  New York City        14   427.644    BW-11200\n",
            "9941  San Francisco        14   223.580    JL-15835\n",
            "9979    Los Angeles        14   437.472    AP-10720\n"
          ],
          "name": "stdout"
        }
      ]
    },
    {
      "cell_type": "code",
      "metadata": {
        "colab_type": "code",
        "id": "CTu7773zRI3o",
        "colab": {
          "base_uri": "https://localhost:8080/",
          "height": 252
        },
        "outputId": "21de335f-9058-40e6-e186-c9961d1f97c5"
      },
      "source": [
        "print(df7[df7.Quantity == df.Quantity.min()]) "
      ],
      "execution_count": 258,
      "outputs": [
        {
          "output_type": "stream",
          "text": [
            "               City  Quantity    Sales Customer ID\n",
            "52       New Albany         1   89.990    DP-13000\n",
            "61             Troy         1    1.680    TB-21055\n",
            "70    New York City         1    4.616    HM-14980\n",
            "74          Memphis         1   72.784    JE-15745\n",
            "79          Decatur         1  208.160    SC-20770\n",
            "...             ...       ...      ...         ...\n",
            "9964         Newark         1   13.400    HE-14800\n",
            "9965         Newark         1    4.980    HE-14800\n",
            "9980      Lafayette         1   85.980    SW-20455\n",
            "9986    Los Angeles         1   36.240    ML-17410\n",
            "9987         Athens         1   79.990    RA-19885\n",
            "\n",
            "[899 rows x 4 columns]\n"
          ],
          "name": "stdout"
        }
      ]
    },
    {
      "cell_type": "code",
      "metadata": {
        "id": "vVrXgFXVPOP9",
        "colab_type": "code",
        "colab": {
          "base_uri": "https://localhost:8080/",
          "height": 35
        },
        "outputId": "8abe5859-4b7a-439e-f8ef-c909311f64ef"
      },
      "source": [
        "df['Category'].max()"
      ],
      "execution_count": 259,
      "outputs": [
        {
          "output_type": "execute_result",
          "data": {
            "application/vnd.google.colaboratory.intrinsic+json": {
              "type": "string"
            },
            "text/plain": [
              "'Technology'"
            ]
          },
          "metadata": {
            "tags": []
          },
          "execution_count": 259
        }
      ]
    },
    {
      "cell_type": "code",
      "metadata": {
        "id": "t_5rSGQuRYw_",
        "colab_type": "code",
        "colab": {
          "base_uri": "https://localhost:8080/",
          "height": 252
        },
        "outputId": "345a7d0a-7628-4f1b-afcd-2bed6d3bd6e4"
      },
      "source": [
        "print(df[df.Category == df.Category.max()]) "
      ],
      "execution_count": 260,
      "outputs": [
        {
          "output_type": "stream",
          "text": [
            "      Row ID        Order ID Order Date  ... Price_per_unit yr month  year\n",
            "7          8  CA-2014-115812 2014-06-09  ...        151.192  2014-06  2014\n",
            "11        12  CA-2014-115812 2014-06-09  ...        227.856  2014-06  2014\n",
            "19        20  CA-2014-143336 2014-08-27  ...         71.160  2014-09  2014\n",
            "26        27  CA-2016-121755 2016-01-16  ...         30.190  2016-01  2016\n",
            "35        36  CA-2016-117590 2016-12-08  ...        156.792  2016-12  2016\n",
            "...      ...             ...        ...  ...            ...      ...   ...\n",
            "9983    9984  US-2016-157728 2016-09-22  ...         48.990  2016-09  2016\n",
            "9986    9987  CA-2016-125794 2016-09-29  ...         36.240  2016-10  2016\n",
            "9987    9988  CA-2017-163629 2017-11-17  ...         79.990  2017-11  2017\n",
            "9988    9989  CA-2017-163629 2017-11-17  ...         41.220  2017-11  2017\n",
            "9991    9992  CA-2017-121258 2017-02-26  ...        129.288  2017-03  2017\n",
            "\n",
            "[1847 rows x 24 columns]\n"
          ],
          "name": "stdout"
        }
      ]
    },
    {
      "cell_type": "code",
      "metadata": {
        "id": "nkf6K4LIR0D-",
        "colab_type": "code",
        "colab": {
          "base_uri": "https://localhost:8080/",
          "height": 35
        },
        "outputId": "93a899d0-4553-4439-fbad-398c31d8eb2d"
      },
      "source": [
        "df['Category'].min()"
      ],
      "execution_count": 261,
      "outputs": [
        {
          "output_type": "execute_result",
          "data": {
            "application/vnd.google.colaboratory.intrinsic+json": {
              "type": "string"
            },
            "text/plain": [
              "'Furniture'"
            ]
          },
          "metadata": {
            "tags": []
          },
          "execution_count": 261
        }
      ]
    },
    {
      "cell_type": "code",
      "metadata": {
        "id": "jLvd93WuRjJ-",
        "colab_type": "code",
        "colab": {
          "base_uri": "https://localhost:8080/",
          "height": 252
        },
        "outputId": "3ff0ed8d-c820-4b99-d350-16a6d8ee2b3e"
      },
      "source": [
        "print(df[df.Category == df.Category.min()]) "
      ],
      "execution_count": 262,
      "outputs": [
        {
          "output_type": "stream",
          "text": [
            "      Row ID        Order ID Order Date  ... Price_per_unit yr month  year\n",
            "0          1  CA-2016-152156 2016-11-08  ...       130.9800  2016-11  2016\n",
            "1          2  CA-2016-152156 2016-11-08  ...       243.9800  2016-11  2016\n",
            "3          4  US-2015-108966 2015-10-11  ...       191.5155  2015-10  2015\n",
            "5          6  CA-2014-115812 2014-06-09  ...         6.9800  2014-06  2014\n",
            "10        11  CA-2014-115812 2014-06-09  ...       189.5760  2014-06  2014\n",
            "...      ...             ...        ...  ...            ...      ...   ...\n",
            "9962    9963  CA-2015-168088 2015-03-19  ...        95.8664  2015-03  2015\n",
            "9964    9965  CA-2016-146374 2016-12-05  ...        13.4000  2016-12  2016\n",
            "9980    9981  US-2015-151435 2015-09-06  ...        85.9800  2015-09  2015\n",
            "9989    9990  CA-2014-110422 2014-01-21  ...         8.4160  2014-01  2014\n",
            "9990    9991  CA-2017-121258 2017-02-26  ...        45.9800  2017-03  2017\n",
            "\n",
            "[2121 rows x 24 columns]\n"
          ],
          "name": "stdout"
        }
      ]
    },
    {
      "cell_type": "markdown",
      "metadata": {
        "id": "NpfjCN6pSJ9Q",
        "colab_type": "text"
      },
      "source": [
        "##Task 12\n",
        "\n",
        "Find out the most and least sold product sub category from the\n",
        "store\n",
        "\n",
        "a.Value based\n",
        "\n",
        "b.Quantity based"
      ]
    },
    {
      "cell_type": "code",
      "metadata": {
        "id": "gOvp5fwdTvqL",
        "colab_type": "code",
        "colab": {}
      },
      "source": [
        "df=df.rename(columns = {'Sub-Category':'subcategory'})"
      ],
      "execution_count": 263,
      "outputs": []
    },
    {
      "cell_type": "code",
      "metadata": {
        "id": "k4au4ZJ8UEzD",
        "colab_type": "code",
        "colab": {
          "base_uri": "https://localhost:8080/",
          "height": 35
        },
        "outputId": "65b1f7e7-4b76-4903-9e58-11559a3871da"
      },
      "source": [
        "df['subcategory'].max()"
      ],
      "execution_count": 264,
      "outputs": [
        {
          "output_type": "execute_result",
          "data": {
            "application/vnd.google.colaboratory.intrinsic+json": {
              "type": "string"
            },
            "text/plain": [
              "'Tables'"
            ]
          },
          "metadata": {
            "tags": []
          },
          "execution_count": 264
        }
      ]
    },
    {
      "cell_type": "code",
      "metadata": {
        "id": "tXh1D-MSUHze",
        "colab_type": "code",
        "colab": {
          "base_uri": "https://localhost:8080/",
          "height": 35
        },
        "outputId": "e01603ac-1627-40f1-d278-d1d3baa3c6da"
      },
      "source": [
        "df['subcategory'].min()"
      ],
      "execution_count": 265,
      "outputs": [
        {
          "output_type": "execute_result",
          "data": {
            "application/vnd.google.colaboratory.intrinsic+json": {
              "type": "string"
            },
            "text/plain": [
              "'Accessories'"
            ]
          },
          "metadata": {
            "tags": []
          },
          "execution_count": 265
        }
      ]
    },
    {
      "cell_type": "code",
      "metadata": {
        "id": "FmiidrFoRwes",
        "colab_type": "code",
        "colab": {
          "base_uri": "https://localhost:8080/",
          "height": 252
        },
        "outputId": "50db8e90-dcf6-4f3c-ade3-39f6b8eb43e0"
      },
      "source": [
        "print(df[df.subcategory == df.subcategory.min()]) "
      ],
      "execution_count": 266,
      "outputs": [
        {
          "output_type": "stream",
          "text": [
            "      Row ID        Order ID Order Date  ... Price_per_unit yr month  year\n",
            "26        27  CA-2016-121755 2016-01-16  ...          30.19  2016-01  2016\n",
            "44        45  CA-2016-118255 2016-03-11  ...          22.99  2016-03  2016\n",
            "47        48  CA-2016-169194 2016-06-20  ...          15.00  2016-06  2016\n",
            "59        60  CA-2016-111682 2016-06-17  ...          15.00  2016-06  2016\n",
            "62        63  CA-2015-135545 2015-11-24  ...           6.99  2015-11  2015\n",
            "...      ...             ...        ...  ...            ...      ...   ...\n",
            "9949    9950  CA-2017-121559 2017-06-01  ...          27.99  2017-06  2017\n",
            "9950    9951  CA-2017-121559 2017-06-01  ...          39.89  2017-06  2017\n",
            "9960    9961  CA-2017-141446 2017-09-16  ...          18.00  2017-09  2017\n",
            "9986    9987  CA-2016-125794 2016-09-29  ...          36.24  2016-10  2016\n",
            "9987    9988  CA-2017-163629 2017-11-17  ...          79.99  2017-11  2017\n",
            "\n",
            "[775 rows x 24 columns]\n"
          ],
          "name": "stdout"
        }
      ]
    },
    {
      "cell_type": "code",
      "metadata": {
        "id": "NxPp4tU4SRgb",
        "colab_type": "code",
        "colab": {
          "base_uri": "https://localhost:8080/",
          "height": 252
        },
        "outputId": "2b950852-49e0-4879-de2c-ac52ecb782c2"
      },
      "source": [
        "print(df[df.subcategory == df.subcategory.max()]) "
      ],
      "execution_count": 267,
      "outputs": [
        {
          "output_type": "stream",
          "text": [
            "      Row ID        Order ID Order Date  ... Price_per_unit yr month  year\n",
            "3          4  US-2015-108966 2015-10-11  ...       191.5155  2015-10  2015\n",
            "10        11  CA-2014-115812 2014-06-09  ...       189.5760  2014-06  2014\n",
            "24        25  CA-2015-106320 2015-09-25  ...       348.2100  2015-09  2015\n",
            "117      118  CA-2015-110457 2015-03-02  ...       262.5100  2015-03  2015\n",
            "125      126  US-2014-134614 2014-09-20  ...       102.9500  2014-09  2014\n",
            "...      ...             ...        ...  ...            ...      ...   ...\n",
            "9857    9858  CA-2015-164301 2015-03-26  ...       424.2100  2015-03  2015\n",
            "9899    9900  US-2014-117380 2014-03-28  ...       330.5880  2014-04  2014\n",
            "9937    9938  CA-2016-164889 2016-06-03  ...        35.5440  2016-06  2016\n",
            "9955    9956  CA-2015-141593 2015-12-14  ...       136.7840  2015-12  2015\n",
            "9980    9981  US-2015-151435 2015-09-06  ...        85.9800  2015-09  2015\n",
            "\n",
            "[319 rows x 24 columns]\n"
          ],
          "name": "stdout"
        }
      ]
    },
    {
      "cell_type": "markdown",
      "metadata": {
        "id": "6O2fAkhcZqa2",
        "colab_type": "text"
      },
      "source": [
        "CONCLUSION:\n",
        "Performed a detailed analysis of sales in a superstore "
      ]
    },
    {
      "cell_type": "code",
      "metadata": {
        "id": "V5JAVvC7aGN6",
        "colab_type": "code",
        "colab": {}
      },
      "source": [
        ""
      ],
      "execution_count": 267,
      "outputs": []
    }
  ]
}